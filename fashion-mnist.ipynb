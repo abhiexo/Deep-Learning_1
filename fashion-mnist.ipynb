{
 "cells": [
  {
   "cell_type": "code",
   "execution_count": 1,
   "metadata": {},
   "outputs": [
    {
     "name": "stderr",
     "output_type": "stream",
     "text": [
      "/Users/pradeepsingh/anaconda3/lib/python3.6/site-packages/h5py/__init__.py:34: FutureWarning: Conversion of the second argument of issubdtype from `float` to `np.floating` is deprecated. In future, it will be treated as `np.float64 == np.dtype(float).type`.\n",
      "  from ._conv import register_converters as _register_converters\n",
      "Using TensorFlow backend.\n"
     ]
    }
   ],
   "source": [
    "import keras\n",
    "from keras.datasets import mnist\n",
    "from keras.models import Sequential\n",
    "from keras.layers import Dense, Dropout, Flatten, Lambda\n",
    "from keras.layers import Conv2D, MaxPooling2D, BatchNormalization\n",
    "from keras.optimizers import Adam\n",
    "import matplotlib.pyplot as plt\n",
    "import matplotlib.image as mpimg\n",
    "from keras.preprocessing.image import ImageDataGenerator\n",
    "import numpy as np\n",
    "import pandas as pd\n",
    "np.random.seed(12345)\n",
    "%matplotlib inline"
   ]
  },
  {
   "cell_type": "code",
   "execution_count": 2,
   "metadata": {},
   "outputs": [
    {
     "name": "stdout",
     "output_type": "stream",
     "text": [
      "Downloading data from https://raw.githubusercontent.com/zalandoresearch/fashion-mnist/master/data/fashion/train-images-idx3-ubyte.gz\n",
      "26427392/26421880 [==============================] - 1s 0us/step\n",
      "Downloading data from https://raw.githubusercontent.com/zalandoresearch/fashion-mnist/master/data/fashion/train-labels-idx1-ubyte.gz\n",
      "32768/29515 [=================================] - 0s 0us/step\n",
      "Downloading data from https://raw.githubusercontent.com/zalandoresearch/fashion-mnist/master/data/fashion/t10k-images-idx3-ubyte.gz\n",
      "4423680/4422102 [==============================] - 0s 0us/step\n",
      "Downloading data from https://raw.githubusercontent.com/zalandoresearch/fashion-mnist/master/data/fashion/t10k-labels-idx1-ubyte.gz\n",
      "8192/5148 [===============================================] - 0s 0us/step\n"
     ]
    }
   ],
   "source": [
    "train_images_path = keras.utils.get_file('train-images-idx3-ubyte.gz', 'https://raw.githubusercontent.com/zalandoresearch/fashion-mnist/master/data/fashion/train-images-idx3-ubyte.gz')\n",
    "train_labels_path = keras.utils.get_file('train-labels-idx1-ubyte.gz', 'https://raw.githubusercontent.com/zalandoresearch/fashion-mnist/master/data/fashion/train-labels-idx1-ubyte.gz')\n",
    "test_images_path = keras.utils.get_file('t10k-images-idx3-ubyte.gz', 'https://raw.githubusercontent.com/zalandoresearch/fashion-mnist/master/data/fashion/t10k-images-idx3-ubyte.gz')\n",
    "test_labels_path = keras.utils.get_file('t10k-labels-idx1-ubyte.gz', 'https://raw.githubusercontent.com/zalandoresearch/fashion-mnist/master/data/fashion/t10k-labels-idx1-ubyte.gz')\n"
   ]
  },
  {
   "cell_type": "code",
   "execution_count": 3,
   "metadata": {
    "collapsed": true
   },
   "outputs": [],
   "source": [
    "batch_size = 512"
   ]
  },
  {
   "cell_type": "code",
   "execution_count": 4,
   "metadata": {
    "collapsed": true
   },
   "outputs": [],
   "source": [
    "def load_mnist(images_path, labels_path):\n",
    "    import os\n",
    "    import gzip\n",
    "    import numpy as np\n",
    "\n",
    "    with gzip.open(labels_path, 'rb') as lbpath:\n",
    "        labels = np.frombuffer(lbpath.read(), dtype=np.uint8,\n",
    "                               offset=8)\n",
    "\n",
    "    with gzip.open(images_path, 'rb') as imgpath:\n",
    "        images = np.frombuffer(imgpath.read(), dtype=np.uint8,\n",
    "                               offset=16).reshape(len(labels), 784)\n",
    "\n",
    "    return images, labels\n"
   ]
  },
  {
   "cell_type": "code",
   "execution_count": 5,
   "metadata": {
    "collapsed": true
   },
   "outputs": [],
   "source": [
    "X_train_orig, y_train_orig = load_mnist(train_images_path, train_labels_path)\n",
    "X_test, y_test = load_mnist(test_images_path, test_labels_path)\n",
    "X_train_orig = X_train_orig.astype('float32')\n",
    "X_test = X_test.astype('float32')\n",
    "X_train_orig /= 255\n",
    "X_test /= 255\n"
   ]
  },
  {
   "cell_type": "code",
   "execution_count": 6,
   "metadata": {},
   "outputs": [
    {
     "name": "stdout",
     "output_type": "stream",
     "text": [
      "(60000, 784)\n",
      "(60000,)\n",
      "(10000, 784)\n",
      "(10000,)\n"
     ]
    }
   ],
   "source": [
    "print(X_train_orig.shape)\n",
    "print(y_train_orig.shape)\n",
    "print(X_test.shape)\n",
    "print(y_test.shape)\n"
   ]
  },
  {
   "cell_type": "code",
   "execution_count": 7,
   "metadata": {
    "collapsed": true
   },
   "outputs": [],
   "source": [
    "from sklearn.model_selection import train_test_split\n",
    "X_train, X_val, y_train, y_val = train_test_split(X_train_orig, y_train_orig, test_size=0.2, random_state=12345)\n"
   ]
  },
  {
   "cell_type": "code",
   "execution_count": 8,
   "metadata": {},
   "outputs": [
    {
     "name": "stdout",
     "output_type": "stream",
     "text": [
      "(48000, 784)\n",
      "(48000,)\n",
      "(12000, 784)\n",
      "(12000,)\n"
     ]
    }
   ],
   "source": [
    "print(X_train.shape)\n",
    "print(y_train.shape)\n",
    "print(X_val.shape)\n",
    "print(y_val.shape)\n"
   ]
  },
  {
   "cell_type": "code",
   "execution_count": 14,
   "metadata": {},
   "outputs": [
    {
     "data": {
      "text/plain": [
       "<matplotlib.image.AxesImage at 0x1a32c55e80>"
      ]
     },
     "execution_count": 14,
     "metadata": {},
     "output_type": "execute_result"
    },
    {
     "data": {
      "image/png": "[encoded data removed]",
      "text/plain": [
       "<matplotlib.figure.Figure at 0x1a327f36a0>"
      ]
     },
     "metadata": {},
     "output_type": "display_data"
    }
   ],
   "source": [
    "plt.imshow(X_train[1, :].reshape((28, 28)))\n"
   ]
  },
  {
   "cell_type": "code",
   "execution_count": 10,
   "metadata": {
    "collapsed": true
   },
   "outputs": [],
   "source": [
    "# 2 layer NN\n",
    "model = Sequential([\n",
    "    Dense(512, input_shape=(784,), activation='relu'),\n",
    "    Dense(128, activation = 'relu'),\n",
    "    Dense(10, activation='softmax')\n",
    "])\n"
   ]
  },
  {
   "cell_type": "code",
   "execution_count": 11,
   "metadata": {},
   "outputs": [
    {
     "name": "stdout",
     "output_type": "stream",
     "text": [
      "_________________________________________________________________\n",
      "Layer (type)                 Output Shape              Param #   \n",
      "=================================================================\n",
      "dense_1 (Dense)              (None, 512)               401920    \n",
      "_________________________________________________________________\n",
      "dense_2 (Dense)              (None, 128)               65664     \n",
      "_________________________________________________________________\n",
      "dense_3 (Dense)              (None, 10)                1290      \n",
      "=================================================================\n",
      "Total params: 468,874\n",
      "Trainable params: 468,874\n",
      "Non-trainable params: 0\n",
      "_________________________________________________________________\n"
     ]
    }
   ],
   "source": [
    "model.summary()"
   ]
  },
  {
   "cell_type": "code",
   "execution_count": 12,
   "metadata": {
    "collapsed": true
   },
   "outputs": [],
   "source": [
    "model.compile(optimizer=Adam(lr=0.001),\n",
    "              loss='sparse_categorical_crossentropy',\n",
    "              metrics=['accuracy'])\n"
   ]
  },
  {
   "cell_type": "code",
   "execution_count": 13,
   "metadata": {},
   "outputs": [
    {
     "name": "stdout",
     "output_type": "stream",
     "text": [
      "Train on 48000 samples, validate on 12000 samples\n",
      "Epoch 1/20\n",
      "48000/48000 [==============================] - 4s 74us/step - loss: 0.6274 - acc: 0.7810 - val_loss: 0.4209 - val_acc: 0.8573\n",
      "Epoch 2/20\n",
      "48000/48000 [==============================] - 3s 68us/step - loss: 0.4142 - acc: 0.8551 - val_loss: 0.3942 - val_acc: 0.8651\n",
      "Epoch 3/20\n",
      "48000/48000 [==============================] - 3s 70us/step - loss: 0.3754 - acc: 0.8667 - val_loss: 0.3562 - val_acc: 0.8790\n",
      "Epoch 4/20\n",
      "48000/48000 [==============================] - 3s 69us/step - loss: 0.3390 - acc: 0.8775 - val_loss: 0.3260 - val_acc: 0.8876\n",
      "Epoch 5/20\n",
      "48000/48000 [==============================] - 4s 74us/step - loss: 0.3192 - acc: 0.8854 - val_loss: 0.3126 - val_acc: 0.8895\n",
      "Epoch 6/20\n",
      "48000/48000 [==============================] - 3s 65us/step - loss: 0.2993 - acc: 0.8919 - val_loss: 0.3252 - val_acc: 0.8857\n",
      "Epoch 7/20\n",
      "48000/48000 [==============================] - 3s 67us/step - loss: 0.2874 - acc: 0.8946 - val_loss: 0.3199 - val_acc: 0.8872\n",
      "Epoch 8/20\n",
      "48000/48000 [==============================] - 3s 66us/step - loss: 0.2735 - acc: 0.9000 - val_loss: 0.2899 - val_acc: 0.8987\n",
      "Epoch 9/20\n",
      "48000/48000 [==============================] - 3s 64us/step - loss: 0.2621 - acc: 0.9045 - val_loss: 0.3053 - val_acc: 0.8896\n",
      "Epoch 10/20\n",
      "48000/48000 [==============================] - 3s 70us/step - loss: 0.2494 - acc: 0.9076 - val_loss: 0.2904 - val_acc: 0.8953\n",
      "Epoch 11/20\n",
      "48000/48000 [==============================] - 3s 63us/step - loss: 0.2420 - acc: 0.9100 - val_loss: 0.2891 - val_acc: 0.8946\n",
      "Epoch 12/20\n",
      "48000/48000 [==============================] - 3s 63us/step - loss: 0.2297 - acc: 0.9153 - val_loss: 0.2973 - val_acc: 0.8966\n",
      "Epoch 13/20\n",
      "48000/48000 [==============================] - 3s 64us/step - loss: 0.2254 - acc: 0.9176 - val_loss: 0.2869 - val_acc: 0.8952\n",
      "Epoch 14/20\n",
      "48000/48000 [==============================] - 3s 64us/step - loss: 0.2138 - acc: 0.9209 - val_loss: 0.2970 - val_acc: 0.8954\n",
      "Epoch 15/20\n",
      "48000/48000 [==============================] - 3s 64us/step - loss: 0.2007 - acc: 0.9257 - val_loss: 0.2805 - val_acc: 0.9024\n",
      "Epoch 16/20\n",
      "48000/48000 [==============================] - 3s 64us/step - loss: 0.1996 - acc: 0.9257 - val_loss: 0.2960 - val_acc: 0.8970\n",
      "Epoch 17/20\n",
      "48000/48000 [==============================] - 3s 64us/step - loss: 0.1878 - acc: 0.9307 - val_loss: 0.2849 - val_acc: 0.9023\n",
      "Epoch 18/20\n",
      "48000/48000 [==============================] - 3s 64us/step - loss: 0.1835 - acc: 0.9319 - val_loss: 0.2984 - val_acc: 0.8971\n",
      "Epoch 19/20\n",
      "48000/48000 [==============================] - 3s 64us/step - loss: 0.1816 - acc: 0.9330 - val_loss: 0.2831 - val_acc: 0.9024\n",
      "Epoch 20/20\n",
      "48000/48000 [==============================] - 3s 65us/step - loss: 0.1686 - acc: 0.9385 - val_loss: 0.2991 - val_acc: 0.8984\n"
     ]
    }
   ],
   "source": [
    "history = model.fit(X_train, y_train,\n",
    "                    batch_size=batch_size,\n",
    "                    epochs=20,\n",
    "                    verbose=1,\n",
    "                    validation_data=(X_val, y_val))\n"
   ]
  },
  {
   "cell_type": "code",
   "execution_count": 15,
   "metadata": {},
   "outputs": [
    {
     "name": "stdout",
     "output_type": "stream",
     "text": [
      "Test loss: 0.3530888082802296\n",
      "Test accuracy: 0.8827\n"
     ]
    }
   ],
   "source": [
    "score = model.evaluate(X_test, y_test, verbose=0)\n",
    "print('Test loss:', score[0])\n",
    "print('Test accuracy:', score[1])\n"
   ]
  },
  {
   "cell_type": "code",
   "execution_count": 16,
   "metadata": {
    "collapsed": true
   },
   "outputs": [],
   "source": [
    "## CNN with 1 Convolutional Layer"
   ]
  },
  {
   "cell_type": "code",
   "execution_count": 17,
   "metadata": {
    "collapsed": true
   },
   "outputs": [],
   "source": [
    "img_rows = 28\n",
    "img_cols = 28\n",
    "input_shape = (img_rows, img_cols, 1)\n",
    "X_train = X_train.reshape(X_train.shape[0], img_rows, img_cols, 1)\n",
    "X_test = X_test.reshape(X_test.shape[0], img_rows, img_cols, 1)\n",
    "X_val = X_val.reshape(X_val.shape[0], img_rows, img_cols, 1)\n"
   ]
  },
  {
   "cell_type": "code",
   "execution_count": 18,
   "metadata": {
    "collapsed": true
   },
   "outputs": [],
   "source": [
    "cnn1 = Sequential([\n",
    "    Conv2D(32, kernel_size=(3, 3), activation='relu', input_shape=input_shape),\n",
    "    MaxPooling2D(pool_size=(2, 2)),\n",
    "    Dropout(0.2),\n",
    "    Flatten(),\n",
    "    Dense(128, activation='relu'),\n",
    "    Dense(10, activation='softmax')\n",
    "])\n"
   ]
  },
  {
   "cell_type": "code",
   "execution_count": 19,
   "metadata": {
    "collapsed": true
   },
   "outputs": [],
   "source": [
    "cnn1.compile(loss='sparse_categorical_crossentropy',\n",
    "              optimizer=Adam(lr=0.001),\n",
    "              metrics=['accuracy'])\n"
   ]
  },
  {
   "cell_type": "code",
   "execution_count": 20,
   "metadata": {},
   "outputs": [
    {
     "name": "stdout",
     "output_type": "stream",
     "text": [
      "Train on 48000 samples, validate on 12000 samples\n",
      "Epoch 1/10\n",
      "48000/48000 [==============================] - 22s 468us/step - loss: 0.6472 - acc: 0.7787 - val_loss: 0.4267 - val_acc: 0.8533\n",
      "Epoch 2/10\n",
      "48000/48000 [==============================] - 23s 473us/step - loss: 0.4020 - acc: 0.8589 - val_loss: 0.3467 - val_acc: 0.8817\n",
      "Epoch 3/10\n",
      "48000/48000 [==============================] - 20s 426us/step - loss: 0.3478 - acc: 0.8765 - val_loss: 0.3205 - val_acc: 0.8900\n",
      "Epoch 4/10\n",
      "48000/48000 [==============================] - 20s 409us/step - loss: 0.3227 - acc: 0.8843 - val_loss: 0.2994 - val_acc: 0.8951\n",
      "Epoch 5/10\n",
      "48000/48000 [==============================] - 20s 410us/step - loss: 0.2987 - acc: 0.8941 - val_loss: 0.2777 - val_acc: 0.9037\n",
      "Epoch 6/10\n",
      "48000/48000 [==============================] - 19s 399us/step - loss: 0.2848 - acc: 0.8979 - val_loss: 0.2703 - val_acc: 0.9055\n",
      "Epoch 7/10\n",
      "48000/48000 [==============================] - 20s 407us/step - loss: 0.2708 - acc: 0.9030 - val_loss: 0.2681 - val_acc: 0.9065\n",
      "Epoch 8/10\n",
      "48000/48000 [==============================] - 19s 406us/step - loss: 0.2634 - acc: 0.9044 - val_loss: 0.2512 - val_acc: 0.9124\n",
      "Epoch 9/10\n",
      "48000/48000 [==============================] - 19s 401us/step - loss: 0.2506 - acc: 0.9088 - val_loss: 0.2518 - val_acc: 0.9089\n",
      "Epoch 10/10\n",
      "48000/48000 [==============================] - 19s 402us/step - loss: 0.2446 - acc: 0.9114 - val_loss: 0.2788 - val_acc: 0.8992\n"
     ]
    },
    {
     "data": {
      "text/plain": [
       "<keras.callbacks.History at 0x1a32b5d080>"
      ]
     },
     "execution_count": 20,
     "metadata": {},
     "output_type": "execute_result"
    }
   ],
   "source": [
    "cnn1.fit(X_train, y_train,\n",
    "          batch_size=batch_size,\n",
    "          epochs=10,\n",
    "          verbose=1,\n",
    "          validation_data=(X_val, y_val))\n"
   ]
  },
  {
   "cell_type": "code",
   "execution_count": 21,
   "metadata": {
    "collapsed": true
   },
   "outputs": [],
   "source": [
    "cnn1.optimizer.lr = 0.0001\n"
   ]
  },
  {
   "cell_type": "code",
   "execution_count": 22,
   "metadata": {},
   "outputs": [
    {
     "name": "stdout",
     "output_type": "stream",
     "text": [
      "Train on 48000 samples, validate on 12000 samples\n",
      "Epoch 1/10\n",
      "48000/48000 [==============================] - 22s 463us/step - loss: 0.2323 - acc: 0.9152 - val_loss: 0.2408 - val_acc: 0.9156\n",
      "Epoch 2/10\n",
      "48000/48000 [==============================] - 21s 432us/step - loss: 0.2212 - acc: 0.9201 - val_loss: 0.2418 - val_acc: 0.9145\n",
      "Epoch 3/10\n",
      "48000/48000 [==============================] - 19s 402us/step - loss: 0.2162 - acc: 0.9201 - val_loss: 0.2360 - val_acc: 0.9182\n",
      "Epoch 4/10\n",
      "48000/48000 [==============================] - 19s 402us/step - loss: 0.2069 - acc: 0.9237 - val_loss: 0.2343 - val_acc: 0.9177\n",
      "Epoch 5/10\n",
      "48000/48000 [==============================] - 19s 404us/step - loss: 0.2019 - acc: 0.9258 - val_loss: 0.2240 - val_acc: 0.9201\n",
      "Epoch 6/10\n",
      "48000/48000 [==============================] - 20s 409us/step - loss: 0.1923 - acc: 0.9296 - val_loss: 0.2254 - val_acc: 0.9217\n",
      "Epoch 7/10\n",
      "48000/48000 [==============================] - 22s 449us/step - loss: 0.1868 - acc: 0.9322 - val_loss: 0.2323 - val_acc: 0.9172\n",
      "Epoch 8/10\n",
      "48000/48000 [==============================] - 19s 404us/step - loss: 0.1807 - acc: 0.9330 - val_loss: 0.2287 - val_acc: 0.9193\n",
      "Epoch 9/10\n",
      "48000/48000 [==============================] - 19s 397us/step - loss: 0.1761 - acc: 0.9359 - val_loss: 0.2217 - val_acc: 0.9227\n",
      "Epoch 10/10\n",
      "48000/48000 [==============================] - 20s 422us/step - loss: 0.1687 - acc: 0.9371 - val_loss: 0.2153 - val_acc: 0.9246\n"
     ]
    },
    {
     "data": {
      "text/plain": [
       "<keras.callbacks.History at 0x1a34161630>"
      ]
     },
     "execution_count": 22,
     "metadata": {},
     "output_type": "execute_result"
    }
   ],
   "source": [
    "cnn1.fit(X_train, y_train,\n",
    "          batch_size=batch_size,\n",
    "          epochs=10,\n",
    "          verbose=1,\n",
    "          validation_data=(X_val, y_val))\n"
   ]
  },
  {
   "cell_type": "code",
   "execution_count": 24,
   "metadata": {},
   "outputs": [
    {
     "name": "stdout",
     "output_type": "stream",
     "text": [
      "Test loss: 0.24918004976511002\n",
      "Test accuracy: 0.9131\n"
     ]
    }
   ],
   "source": [
    "score = cnn1.evaluate(X_test, y_test, verbose=0)\n",
    "print('Test loss:', score[0])\n",
    "print('Test accuracy:', score[1])\n"
   ]
  },
  {
   "cell_type": "code",
   "execution_count": 25,
   "metadata": {
    "collapsed": true
   },
   "outputs": [],
   "source": [
    "# Data Augmentation\n",
    "gen = ImageDataGenerator(rotation_range=8, width_shift_range=0.08, shear_range=0.3,\n",
    "                               height_shift_range=0.08, zoom_range=0.08)\n",
    "batches = gen.flow(X_train, y_train, batch_size=batch_size)\n",
    "val_batches = gen.flow(X_val, y_val, batch_size=batch_size)\n"
   ]
  },
  {
   "cell_type": "code",
   "execution_count": 26,
   "metadata": {},
   "outputs": [
    {
     "name": "stdout",
     "output_type": "stream",
     "text": [
      "Epoch 1/50\n",
      "93/93 [==============================] - 25s 272ms/step - loss: 0.4696 - acc: 0.8262 - val_loss: 0.4127 - val_acc: 0.8491\n",
      "Epoch 2/50\n",
      "93/93 [==============================] - 26s 284ms/step - loss: 0.4191 - acc: 0.8431 - val_loss: 0.3868 - val_acc: 0.8538\n",
      "Epoch 3/50\n",
      "93/93 [==============================] - 25s 268ms/step - loss: 0.3933 - acc: 0.8524 - val_loss: 0.3630 - val_acc: 0.8670\n",
      "Epoch 4/50\n",
      "93/93 [==============================] - 24s 258ms/step - loss: 0.3816 - acc: 0.8565 - val_loss: 0.3569 - val_acc: 0.8686\n",
      "Epoch 5/50\n",
      "93/93 [==============================] - 23s 243ms/step - loss: 0.3699 - acc: 0.8619 - val_loss: 0.3450 - val_acc: 0.8734\n",
      "Epoch 6/50\n",
      "93/93 [==============================] - 22s 236ms/step - loss: 0.3646 - acc: 0.8628 - val_loss: 0.3365 - val_acc: 0.8766\n",
      "Epoch 7/50\n",
      "93/93 [==============================] - 22s 234ms/step - loss: 0.3552 - acc: 0.8670 - val_loss: 0.3410 - val_acc: 0.8770\n",
      "Epoch 8/50\n",
      "93/93 [==============================] - 25s 269ms/step - loss: 0.3479 - acc: 0.8707 - val_loss: 0.3311 - val_acc: 0.8787\n",
      "Epoch 9/50\n",
      "93/93 [==============================] - 25s 270ms/step - loss: 0.3465 - acc: 0.8722 - val_loss: 0.3306 - val_acc: 0.8794\n",
      "Epoch 10/50\n",
      "93/93 [==============================] - 27s 290ms/step - loss: 0.3390 - acc: 0.8742 - val_loss: 0.3268 - val_acc: 0.8808\n",
      "Epoch 11/50\n",
      "93/93 [==============================] - 25s 263ms/step - loss: 0.3349 - acc: 0.8765 - val_loss: 0.3137 - val_acc: 0.8837\n",
      "Epoch 12/50\n",
      "93/93 [==============================] - 22s 235ms/step - loss: 0.3293 - acc: 0.8782 - val_loss: 0.3143 - val_acc: 0.8855\n",
      "Epoch 13/50\n",
      "93/93 [==============================] - 22s 234ms/step - loss: 0.3263 - acc: 0.8777 - val_loss: 0.3100 - val_acc: 0.8854\n",
      "Epoch 14/50\n",
      "93/93 [==============================] - 22s 234ms/step - loss: 0.3223 - acc: 0.8806 - val_loss: 0.3221 - val_acc: 0.8827\n",
      "Epoch 15/50\n",
      "93/93 [==============================] - 22s 234ms/step - loss: 0.3230 - acc: 0.8796 - val_loss: 0.3074 - val_acc: 0.8899\n",
      "Epoch 16/50\n",
      "93/93 [==============================] - 22s 235ms/step - loss: 0.3172 - acc: 0.8820 - val_loss: 0.3051 - val_acc: 0.8880\n",
      "Epoch 17/50\n",
      "93/93 [==============================] - 22s 239ms/step - loss: 0.3147 - acc: 0.8831 - val_loss: 0.3035 - val_acc: 0.8875\n",
      "Epoch 18/50\n",
      "93/93 [==============================] - 22s 236ms/step - loss: 0.3131 - acc: 0.8848 - val_loss: 0.2906 - val_acc: 0.8917\n",
      "Epoch 19/50\n",
      "93/93 [==============================] - 22s 236ms/step - loss: 0.3094 - acc: 0.8838 - val_loss: 0.2968 - val_acc: 0.8885\n",
      "Epoch 20/50\n",
      "93/93 [==============================] - 22s 240ms/step - loss: 0.3051 - acc: 0.8868 - val_loss: 0.2884 - val_acc: 0.8939\n",
      "Epoch 21/50\n",
      "93/93 [==============================] - 22s 235ms/step - loss: 0.3016 - acc: 0.8892 - val_loss: 0.2975 - val_acc: 0.8943\n",
      "Epoch 22/50\n",
      "93/93 [==============================] - 22s 235ms/step - loss: 0.3023 - acc: 0.8887 - val_loss: 0.2847 - val_acc: 0.8952\n",
      "Epoch 23/50\n",
      "93/93 [==============================] - 22s 236ms/step - loss: 0.3035 - acc: 0.8864 - val_loss: 0.2855 - val_acc: 0.8934\n",
      "Epoch 24/50\n",
      "93/93 [==============================] - 22s 237ms/step - loss: 0.2986 - acc: 0.8886 - val_loss: 0.3017 - val_acc: 0.8894\n",
      "Epoch 25/50\n",
      "93/93 [==============================] - 22s 237ms/step - loss: 0.2898 - acc: 0.8907 - val_loss: 0.2864 - val_acc: 0.8962\n",
      "Epoch 26/50\n",
      "93/93 [==============================] - 23s 243ms/step - loss: 0.2934 - acc: 0.8910 - val_loss: 0.2884 - val_acc: 0.8952\n",
      "Epoch 27/50\n",
      "93/93 [==============================] - 24s 254ms/step - loss: 0.2950 - acc: 0.8899 - val_loss: 0.2921 - val_acc: 0.8939\n",
      "Epoch 28/50\n",
      "93/93 [==============================] - 22s 238ms/step - loss: 0.2908 - acc: 0.8921 - val_loss: 0.2819 - val_acc: 0.8976\n",
      "Epoch 29/50\n",
      "93/93 [==============================] - 22s 237ms/step - loss: 0.2876 - acc: 0.8933 - val_loss: 0.2770 - val_acc: 0.9004\n",
      "Epoch 30/50\n",
      "93/93 [==============================] - 22s 238ms/step - loss: 0.2902 - acc: 0.8908 - val_loss: 0.2849 - val_acc: 0.8939\n",
      "Epoch 31/50\n",
      "93/93 [==============================] - 22s 237ms/step - loss: 0.2863 - acc: 0.8920 - val_loss: 0.2862 - val_acc: 0.8944\n",
      "Epoch 32/50\n",
      "93/93 [==============================] - 22s 237ms/step - loss: 0.2818 - acc: 0.8951 - val_loss: 0.2712 - val_acc: 0.8984\n",
      "Epoch 33/50\n",
      "93/93 [==============================] - 22s 240ms/step - loss: 0.2782 - acc: 0.8958 - val_loss: 0.2712 - val_acc: 0.9012\n",
      "Epoch 34/50\n",
      "93/93 [==============================] - 22s 236ms/step - loss: 0.2764 - acc: 0.8966 - val_loss: 0.2811 - val_acc: 0.8968\n",
      "Epoch 35/50\n",
      "93/93 [==============================] - 22s 238ms/step - loss: 0.2757 - acc: 0.8981 - val_loss: 0.2808 - val_acc: 0.8983\n",
      "Epoch 36/50\n",
      "93/93 [==============================] - 26s 278ms/step - loss: 0.2816 - acc: 0.8939 - val_loss: 0.2769 - val_acc: 0.9001\n",
      "Epoch 37/50\n",
      "93/93 [==============================] - 22s 234ms/step - loss: 0.2737 - acc: 0.8968 - val_loss: 0.2698 - val_acc: 0.9027\n",
      "Epoch 38/50\n",
      "93/93 [==============================] - 24s 263ms/step - loss: 0.2749 - acc: 0.8973 - val_loss: 0.2707 - val_acc: 0.9006\n",
      "Epoch 39/50\n",
      "93/93 [==============================] - 22s 240ms/step - loss: 0.2707 - acc: 0.8997 - val_loss: 0.2652 - val_acc: 0.9018\n",
      "Epoch 40/50\n",
      "93/93 [==============================] - 23s 248ms/step - loss: 0.2688 - acc: 0.8995 - val_loss: 0.2690 - val_acc: 0.9058\n",
      "Epoch 41/50\n",
      "93/93 [==============================] - 24s 258ms/step - loss: 0.2675 - acc: 0.9013 - val_loss: 0.2696 - val_acc: 0.9006\n",
      "Epoch 42/50\n",
      "93/93 [==============================] - 23s 252ms/step - loss: 0.2711 - acc: 0.8983 - val_loss: 0.2694 - val_acc: 0.9038\n",
      "Epoch 43/50\n",
      "93/93 [==============================] - 23s 252ms/step - loss: 0.2704 - acc: 0.8999 - val_loss: 0.2660 - val_acc: 0.9041\n",
      "Epoch 44/50\n",
      "93/93 [==============================] - 25s 268ms/step - loss: 0.2641 - acc: 0.9004 - val_loss: 0.2638 - val_acc: 0.9045\n",
      "Epoch 45/50\n",
      "93/93 [==============================] - 24s 261ms/step - loss: 0.2603 - acc: 0.9037 - val_loss: 0.2805 - val_acc: 0.8969\n",
      "Epoch 46/50\n",
      "93/93 [==============================] - 24s 261ms/step - loss: 0.2605 - acc: 0.9036 - val_loss: 0.2693 - val_acc: 0.8979\n",
      "Epoch 47/50\n",
      "93/93 [==============================] - 23s 250ms/step - loss: 0.2662 - acc: 0.9013 - val_loss: 0.2616 - val_acc: 0.9079\n",
      "Epoch 48/50\n",
      "93/93 [==============================] - 22s 241ms/step - loss: 0.2558 - acc: 0.9046 - val_loss: 0.2591 - val_acc: 0.9086\n",
      "Epoch 49/50\n",
      "93/93 [==============================] - 23s 249ms/step - loss: 0.2580 - acc: 0.9032 - val_loss: 0.2600 - val_acc: 0.9089\n",
      "Epoch 50/50\n",
      "93/93 [==============================] - 23s 250ms/step - loss: 0.2600 - acc: 0.9028 - val_loss: 0.2737 - val_acc: 0.8983\n"
     ]
    },
    {
     "data": {
      "text/plain": [
       "<keras.callbacks.History at 0x1a34161898>"
      ]
     },
     "execution_count": 26,
     "metadata": {},
     "output_type": "execute_result"
    }
   ],
   "source": [
    "cnn1.fit_generator(batches, steps_per_epoch=48000//batch_size, epochs=50,\n",
    "                    validation_data=val_batches, validation_steps=12000//batch_size, use_multiprocessing=True)\n"
   ]
  },
  {
   "cell_type": "code",
   "execution_count": 27,
   "metadata": {},
   "outputs": [
    {
     "name": "stdout",
     "output_type": "stream",
     "text": [
      "Test loss: 0.2702846100747585\n",
      "Test accuracy: 0.9063\n"
     ]
    }
   ],
   "source": [
    "score = cnn1.evaluate(X_test, y_test, verbose=0)\n",
    "print('Test loss:', score[0])\n",
    "print('Test accuracy:', score[1])\n"
   ]
  },
  {
   "cell_type": "code",
   "execution_count": 28,
   "metadata": {
    "collapsed": true
   },
   "outputs": [],
   "source": [
    "### CNN with 3 Convolutional Layers"
   ]
  },
  {
   "cell_type": "code",
   "execution_count": 29,
   "metadata": {
    "collapsed": true
   },
   "outputs": [],
   "source": [
    "cnn2 = Sequential([\n",
    "    Conv2D(32, kernel_size=(3, 3), activation='relu', input_shape=input_shape),\n",
    "    MaxPooling2D(pool_size=(2, 2)),\n",
    "    Dropout(0.2),\n",
    "\n",
    "    Conv2D(64, kernel_size=(3, 3), activation='relu'),\n",
    "    MaxPooling2D(pool_size=(2, 2)),\n",
    "    Dropout(0.2),\n",
    "\n",
    "    Conv2D(128, kernel_size=(3, 3), activation='relu'),\n",
    "    Dropout(0.2),\n",
    "\n",
    "    Flatten(),\n",
    "\n",
    "    Dense(128, activation='relu'),\n",
    "    Dropout(0.2),\n",
    "    Dense(10, activation='softmax')\n",
    "])\n"
   ]
  },
  {
   "cell_type": "code",
   "execution_count": 30,
   "metadata": {
    "collapsed": true
   },
   "outputs": [],
   "source": [
    "cnn2.compile(loss='sparse_categorical_crossentropy',\n",
    "              optimizer=Adam(lr=0.001),\n",
    "              metrics=['accuracy'])\n"
   ]
  },
  {
   "cell_type": "code",
   "execution_count": 31,
   "metadata": {},
   "outputs": [
    {
     "name": "stdout",
     "output_type": "stream",
     "text": [
      "Train on 48000 samples, validate on 12000 samples\n",
      "Epoch 1/10\n",
      "48000/48000 [==============================] - 41s 861us/step - loss: 0.9826 - acc: 0.6359 - val_loss: 0.5913 - val_acc: 0.7714\n",
      "Epoch 2/10\n",
      "48000/48000 [==============================] - 43s 905us/step - loss: 0.5765 - acc: 0.7822 - val_loss: 0.4627 - val_acc: 0.8335\n",
      "Epoch 3/10\n",
      "48000/48000 [==============================] - 43s 906us/step - loss: 0.4976 - acc: 0.8127 - val_loss: 0.4068 - val_acc: 0.8531\n",
      "Epoch 4/10\n",
      "48000/48000 [==============================] - 41s 851us/step - loss: 0.4484 - acc: 0.8326 - val_loss: 0.3710 - val_acc: 0.8653\n",
      "Epoch 5/10\n",
      "48000/48000 [==============================] - 40s 843us/step - loss: 0.4142 - acc: 0.8457 - val_loss: 0.3402 - val_acc: 0.8771\n",
      "Epoch 6/10\n",
      "48000/48000 [==============================] - 40s 840us/step - loss: 0.3912 - acc: 0.8555 - val_loss: 0.3248 - val_acc: 0.8795\n",
      "Epoch 7/10\n",
      "48000/48000 [==============================] - 40s 841us/step - loss: 0.3683 - acc: 0.8635 - val_loss: 0.3191 - val_acc: 0.8839\n",
      "Epoch 8/10\n",
      "48000/48000 [==============================] - 41s 845us/step - loss: 0.3505 - acc: 0.8704 - val_loss: 0.2951 - val_acc: 0.8933\n",
      "Epoch 9/10\n",
      "48000/48000 [==============================] - 45s 944us/step - loss: 0.3330 - acc: 0.8770 - val_loss: 0.2882 - val_acc: 0.8934\n",
      "Epoch 10/10\n",
      "48000/48000 [==============================] - 41s 858us/step - loss: 0.3199 - acc: 0.8829 - val_loss: 0.2763 - val_acc: 0.8982\n"
     ]
    },
    {
     "data": {
      "text/plain": [
       "<keras.callbacks.History at 0x1a33ca07b8>"
      ]
     },
     "execution_count": 31,
     "metadata": {},
     "output_type": "execute_result"
    }
   ],
   "source": [
    "cnn2.fit(X_train, y_train,\n",
    "          batch_size=batch_size,\n",
    "          epochs=10,\n",
    "          verbose=1,\n",
    "          validation_data=(X_val, y_val))\n"
   ]
  },
  {
   "cell_type": "code",
   "execution_count": 32,
   "metadata": {
    "collapsed": true
   },
   "outputs": [],
   "source": [
    "cnn2.optimizer.lr = 0.0001"
   ]
  },
  {
   "cell_type": "code",
   "execution_count": 33,
   "metadata": {},
   "outputs": [
    {
     "name": "stdout",
     "output_type": "stream",
     "text": [
      "Train on 48000 samples, validate on 12000 samples\n",
      "Epoch 1/10\n",
      "48000/48000 [==============================] - 41s 857us/step - loss: 0.3096 - acc: 0.8869 - val_loss: 0.2675 - val_acc: 0.9027\n",
      "Epoch 2/10\n",
      "48000/48000 [==============================] - 43s 901us/step - loss: 0.2998 - acc: 0.8897 - val_loss: 0.2555 - val_acc: 0.9064\n",
      "Epoch 3/10\n",
      "48000/48000 [==============================] - 42s 867us/step - loss: 0.2914 - acc: 0.8931 - val_loss: 0.2545 - val_acc: 0.9051\n",
      "Epoch 4/10\n",
      "48000/48000 [==============================] - 41s 851us/step - loss: 0.2873 - acc: 0.8937 - val_loss: 0.2550 - val_acc: 0.9051\n",
      "Epoch 5/10\n",
      "48000/48000 [==============================] - 41s 845us/step - loss: 0.2743 - acc: 0.8983 - val_loss: 0.2411 - val_acc: 0.9124\n",
      "Epoch 6/10\n",
      "48000/48000 [==============================] - 41s 845us/step - loss: 0.2712 - acc: 0.9009 - val_loss: 0.2487 - val_acc: 0.9075\n",
      "Epoch 7/10\n",
      "48000/48000 [==============================] - 41s 849us/step - loss: 0.2632 - acc: 0.9035 - val_loss: 0.2370 - val_acc: 0.9111\n",
      "Epoch 8/10\n",
      "48000/48000 [==============================] - 41s 849us/step - loss: 0.2599 - acc: 0.9046 - val_loss: 0.2419 - val_acc: 0.9091\n",
      "Epoch 9/10\n",
      "48000/48000 [==============================] - 41s 856us/step - loss: 0.2534 - acc: 0.9066 - val_loss: 0.2442 - val_acc: 0.9073\n",
      "Epoch 10/10\n",
      "48000/48000 [==============================] - 41s 850us/step - loss: 0.2451 - acc: 0.9090 - val_loss: 0.2364 - val_acc: 0.9108\n"
     ]
    },
    {
     "data": {
      "text/plain": [
       "<keras.callbacks.History at 0x1a341617b8>"
      ]
     },
     "execution_count": 33,
     "metadata": {},
     "output_type": "execute_result"
    }
   ],
   "source": [
    "cnn2.fit(X_train, y_train,\n",
    "          batch_size=batch_size,\n",
    "          epochs=10,\n",
    "          verbose=1,\n",
    "          validation_data=(X_val, y_val))"
   ]
  },
  {
   "cell_type": "code",
   "execution_count": 34,
   "metadata": {},
   "outputs": [
    {
     "name": "stdout",
     "output_type": "stream",
     "text": [
      "Test loss: 0.26379832727909086\n",
      "Test accuracy: 0.9052\n"
     ]
    }
   ],
   "source": [
    "score = cnn2.evaluate(X_test, y_test, verbose=0)\n",
    "print('Test loss:', score[0])\n",
    "print('Test accuracy:', score[1])\n"
   ]
  },
  {
   "cell_type": "code",
   "execution_count": null,
   "metadata": {
    "collapsed": true
   },
   "outputs": [],
   "source": []
  }
 ],
 "metadata": {
  "kernelspec": {
   "display_name": "Python 3",
   "language": "python",
   "name": "python3"
  },
  "language_info": {
   "codemirror_mode": {
    "name": "ipython",
    "version": 3
   },
   "file_extension": ".py",
   "mimetype": "text/x-python",
   "name": "python",
   "nbconvert_exporter": "python",
   "pygments_lexer": "ipython3",
   "version": "3.6.3"
  }
 },
 "nbformat": 4,
 "nbformat_minor": 2
}
