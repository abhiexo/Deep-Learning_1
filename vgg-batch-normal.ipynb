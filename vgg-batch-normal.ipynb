{
 "cells": [
  {
   "cell_type": "code",
   "execution_count": 1,
   "metadata": {
    "collapsed": true
   },
   "outputs": [],
   "source": [
    "# VGG Like Model With Batchnorm"
   ]
  },
  {
   "cell_type": "code",
   "execution_count": 2,
   "metadata": {
    "collapsed": false
   },
   "outputs": [
    {
     "name": "stderr",
     "output_type": "stream",
     "text": [
      "/home/pdeepsingh91/anaconda3/lib/python3.5/site-packages/h5py/__init__.py:36: FutureWarning: Conversion of the second argument of issubdtype from `float` to `np.floating` is deprecated. In future, it will be treated as `np.float64 == np.dtype(float).type`.\n",
      "  from ._conv import register_converters as _register_converters\n",
      "Using TensorFlow backend.\n"
     ]
    }
   ],
   "source": [
    "import keras\n",
    "from keras.datasets import mnist\n",
    "from keras.models import Sequential\n",
    "from keras.layers import Dense, Dropout, Flatten, Lambda\n",
    "from keras.layers import Conv2D, MaxPooling2D, BatchNormalization\n",
    "from keras.optimizers import Adam\n",
    "#import matplotlib.pyplot as plt\n",
    "#import matplotlib.image as mpimg\n",
    "from keras.preprocessing.image import ImageDataGenerator\n",
    "import numpy as np\n",
    "import pandas as pd\n",
    "np.random.seed(12345)\n",
    "#%matplotlib inline"
   ]
  },
  {
   "cell_type": "code",
   "execution_count": 3,
   "metadata": {
    "collapsed": true
   },
   "outputs": [],
   "source": [
    "train_images_path = keras.utils.get_file('train-images-idx3-ubyte.gz', 'https://raw.githubusercontent.com/zalandoresearch/fashion-mnist/master/data/fashion/train-images-idx3-ubyte.gz')\n",
    "train_labels_path = keras.utils.get_file('train-labels-idx1-ubyte.gz', 'https://raw.githubusercontent.com/zalandoresearch/fashion-mnist/master/data/fashion/train-labels-idx1-ubyte.gz')\n",
    "test_images_path = keras.utils.get_file('t10k-images-idx3-ubyte.gz', 'https://raw.githubusercontent.com/zalandoresearch/fashion-mnist/master/data/fashion/t10k-images-idx3-ubyte.gz')\n",
    "test_labels_path = keras.utils.get_file('t10k-labels-idx1-ubyte.gz', 'https://raw.githubusercontent.com/zalandoresearch/fashion-mnist/master/data/fashion/t10k-labels-idx1-ubyte.gz')"
   ]
  },
  {
   "cell_type": "code",
   "execution_count": 4,
   "metadata": {
    "collapsed": true
   },
   "outputs": [],
   "source": [
    "batch_size = 512"
   ]
  },
  {
   "cell_type": "code",
   "execution_count": 5,
   "metadata": {
    "collapsed": true
   },
   "outputs": [],
   "source": [
    "def load_mnist(images_path, labels_path):\n",
    "    import os\n",
    "    import gzip\n",
    "    import numpy as np\n",
    "\n",
    "    with gzip.open(labels_path, 'rb') as lbpath:\n",
    "        labels = np.frombuffer(lbpath.read(), dtype=np.uint8,\n",
    "                               offset=8)\n",
    "\n",
    "    with gzip.open(images_path, 'rb') as imgpath:\n",
    "        images = np.frombuffer(imgpath.read(), dtype=np.uint8,\n",
    "                               offset=16).reshape(len(labels), 784)\n",
    "\n",
    "    return images, labels"
   ]
  },
  {
   "cell_type": "code",
   "execution_count": 6,
   "metadata": {
    "collapsed": true
   },
   "outputs": [],
   "source": [
    "X_train_orig, y_train_orig = load_mnist(train_images_path, train_labels_path)\n",
    "X_test, y_test = load_mnist(test_images_path, test_labels_path)\n",
    "X_train_orig = X_train_orig.astype('float32')\n",
    "X_test = X_test.astype('float32')\n",
    "X_train_orig /= 255\n",
    "X_test /= 255"
   ]
  },
  {
   "cell_type": "code",
   "execution_count": 7,
   "metadata": {
    "collapsed": false
   },
   "outputs": [
    {
     "name": "stdout",
     "output_type": "stream",
     "text": [
      "(60000, 784)\n",
      "(60000,)\n",
      "(10000, 784)\n",
      "(10000,)\n"
     ]
    }
   ],
   "source": [
    "print(X_train_orig.shape)\n",
    "print(y_train_orig.shape)\n",
    "print(X_test.shape)\n",
    "print(y_test.shape)"
   ]
  },
  {
   "cell_type": "code",
   "execution_count": 8,
   "metadata": {
    "collapsed": true
   },
   "outputs": [],
   "source": [
    "from sklearn.model_selection import train_test_split\n",
    "X_train, X_val, y_train, y_val = train_test_split(X_train_orig, y_train_orig, test_size=0.2, random_state=12345)"
   ]
  },
  {
   "cell_type": "code",
   "execution_count": 9,
   "metadata": {
    "collapsed": false
   },
   "outputs": [
    {
     "name": "stdout",
     "output_type": "stream",
     "text": [
      "(48000, 784)\n",
      "(48000,)\n",
      "(12000, 784)\n",
      "(12000,)\n"
     ]
    }
   ],
   "source": [
    "print(X_train.shape)\n",
    "print(y_train.shape)\n",
    "print(X_val.shape)\n",
    "print(y_val.shape)"
   ]
  },
  {
   "cell_type": "code",
   "execution_count": 10,
   "metadata": {
    "collapsed": true
   },
   "outputs": [],
   "source": [
    "#plt.imshow(X_train[1, :].reshape((28, 28)))"
   ]
  },
  {
   "cell_type": "code",
   "execution_count": 11,
   "metadata": {
    "collapsed": true
   },
   "outputs": [],
   "source": [
    "img_rows = 28\n",
    "img_cols = 28\n",
    "input_shape = (img_rows, img_cols, 1)\n",
    "X_train = X_train.reshape(X_train.shape[0], img_rows, img_cols, 1)\n",
    "X_test = X_test.reshape(X_test.shape[0], img_rows, img_cols, 1)\n",
    "X_val = X_val.reshape(X_val.shape[0], img_rows, img_cols, 1)"
   ]
  },
  {
   "cell_type": "code",
   "execution_count": 12,
   "metadata": {
    "collapsed": true
   },
   "outputs": [],
   "source": [
    "mean_px = X_train.mean().astype(np.float32)\n",
    "std_px = X_train.std().astype(np.float32)\n",
    "def norm_input(x): return (x-mean_px)/std_px"
   ]
  },
  {
   "cell_type": "code",
   "execution_count": 13,
   "metadata": {
    "collapsed": true
   },
   "outputs": [],
   "source": [
    "cnn5 = Sequential([\n",
    "    Lambda(norm_input, input_shape=(28,28, 1)),\n",
    "    Conv2D(32, kernel_size=(3, 3), activation='relu', padding='same', input_shape=input_shape),\n",
    "    Conv2D(32, kernel_size=(3, 3), activation='relu', padding='same'),\n",
    "    BatchNormalization(),\n",
    "    Dropout(0.25),\n",
    "\n",
    "    Conv2D(64, kernel_size=(3, 3), activation='relu', padding='same'),\n",
    "    Conv2D(64, kernel_size=(3, 3), activation='relu', padding='same'),\n",
    "    MaxPooling2D(pool_size=(2, 2)),\n",
    "    Dropout(0.25),\n",
    "\n",
    "    Conv2D(128, kernel_size=(3, 3), activation='relu', padding='same'),\n",
    "    Conv2D(128, kernel_size=(3, 3), activation='relu', padding='same'),\n",
    "    BatchNormalization(),\n",
    "    Dropout(0.25),\n",
    "\n",
    "    Conv2D(256, kernel_size=(3, 3), activation='relu', padding='same'),\n",
    "    Conv2D(256, kernel_size=(3, 3), activation='relu', padding='same'),\n",
    "    Conv2D(256, kernel_size=(3, 3), activation='relu', padding='same'),\n",
    "    MaxPooling2D(pool_size=(2, 2)),\n",
    "\n",
    "    Flatten(),\n",
    "\n",
    "    Dense(512, activation='relu'),\n",
    "    BatchNormalization(),\n",
    "    Dropout(0.5),\n",
    "    Dense(512, activation='relu'),\n",
    "    BatchNormalization(),\n",
    "    Dropout(0.5),\n",
    "    Dense(10, activation='softmax')\n",
    "])\n"
   ]
  },
  {
   "cell_type": "code",
   "execution_count": 14,
   "metadata": {
    "collapsed": true
   },
   "outputs": [],
   "source": [
    "cnn5.compile(loss='sparse_categorical_crossentropy',\n",
    "              optimizer=Adam(lr=0.001),\n",
    "              metrics=['accuracy'])"
   ]
  },
  {
   "cell_type": "code",
   "execution_count": 15,
   "metadata": {
    "collapsed": false,
    "scrolled": true
   },
   "outputs": [
    {
     "name": "stdout",
     "output_type": "stream",
     "text": [
      "Train on 48000 samples, validate on 12000 samples\n",
      "Epoch 1/10\n",
      "48000/48000 [==============================] - 1239s 26ms/step - loss: 0.8209 - acc: 0.7228 - val_loss: 2.4042 - val_acc: 0.3893\n",
      "Epoch 2/10\n",
      "48000/48000 [==============================] - 1241s 26ms/step - loss: 0.4500 - acc: 0.8379 - val_loss: 0.6855 - val_acc: 0.7822\n",
      "Epoch 3/10\n",
      "48000/48000 [==============================] - 1241s 26ms/step - loss: 0.3601 - acc: 0.8706 - val_loss: 0.5330 - val_acc: 0.8159\n",
      "Epoch 4/10\n",
      "48000/48000 [==============================] - 1242s 26ms/step - loss: 0.3085 - acc: 0.8885 - val_loss: 0.3139 - val_acc: 0.8897\n",
      "Epoch 5/10\n",
      "48000/48000 [==============================] - 1238s 26ms/step - loss: 0.2797 - acc: 0.8982 - val_loss: 0.2345 - val_acc: 0.9176\n",
      "Epoch 6/10\n",
      "48000/48000 [==============================] - 1241s 26ms/step - loss: 0.2598 - acc: 0.9053 - val_loss: 0.2871 - val_acc: 0.9028\n",
      "Epoch 7/10\n",
      "48000/48000 [==============================] - 1240s 26ms/step - loss: 0.2377 - acc: 0.9144 - val_loss: 0.3052 - val_acc: 0.8958\n",
      "Epoch 8/10\n",
      "48000/48000 [==============================] - 1241s 26ms/step - loss: 0.2254 - acc: 0.9178 - val_loss: 0.2148 - val_acc: 0.9225\n",
      "Epoch 9/10\n",
      "48000/48000 [==============================] - 1239s 26ms/step - loss: 0.2113 - acc: 0.9236 - val_loss: 0.2061 - val_acc: 0.9267\n",
      "Epoch 10/10\n",
      "48000/48000 [==============================] - 1236s 26ms/step - loss: 0.2003 - acc: 0.9253 - val_loss: 0.2208 - val_acc: 0.9240\n"
     ]
    },
    {
     "data": {
      "text/plain": [
       "<keras.callbacks.History at 0x7f9bad591710>"
      ]
     },
     "execution_count": 15,
     "metadata": {},
     "output_type": "execute_result"
    }
   ],
   "source": [
    "cnn5.fit(X_train, y_train,\n",
    "          batch_size=batch_size,\n",
    "          epochs=10,\n",
    "          verbose=1,\n",
    "          validation_data=(X_val, y_val))"
   ]
  },
  {
   "cell_type": "code",
   "execution_count": 16,
   "metadata": {
    "collapsed": true
   },
   "outputs": [],
   "source": [
    "cnn5.optimizer.lr = 0.0001"
   ]
  },
  {
   "cell_type": "code",
   "execution_count": 17,
   "metadata": {
    "collapsed": false
   },
   "outputs": [
    {
     "name": "stdout",
     "output_type": "stream",
     "text": [
      "Train on 48000 samples, validate on 12000 samples\n",
      "Epoch 1/10\n",
      "48000/48000 [==============================] - 1229s 26ms/step - loss: 0.1950 - acc: 0.9274 - val_loss: 0.2249 - val_acc: 0.9236\n",
      "Epoch 2/10\n",
      "48000/48000 [==============================] - 1225s 26ms/step - loss: 0.1800 - acc: 0.9341 - val_loss: 0.2204 - val_acc: 0.9233\n",
      "Epoch 3/10\n",
      "48000/48000 [==============================] - 1225s 26ms/step - loss: 0.1765 - acc: 0.9351 - val_loss: 0.1828 - val_acc: 0.9349\n",
      "Epoch 4/10\n",
      "48000/48000 [==============================] - 1223s 25ms/step - loss: 0.1669 - acc: 0.9385 - val_loss: 0.1882 - val_acc: 0.9359\n",
      "Epoch 5/10\n",
      "48000/48000 [==============================] - 1225s 26ms/step - loss: 0.1609 - acc: 0.9412 - val_loss: 0.2244 - val_acc: 0.9244\n",
      "Epoch 6/10\n",
      "48000/48000 [==============================] - 1223s 25ms/step - loss: 0.1547 - acc: 0.9434 - val_loss: 0.1994 - val_acc: 0.9343\n",
      "Epoch 7/10\n",
      "48000/48000 [==============================] - 1223s 25ms/step - loss: 0.1419 - acc: 0.9480 - val_loss: 0.2081 - val_acc: 0.9330\n",
      "Epoch 8/10\n",
      "48000/48000 [==============================] - 1224s 26ms/step - loss: 0.1367 - acc: 0.9491 - val_loss: 0.2358 - val_acc: 0.9283\n",
      "Epoch 9/10\n",
      "48000/48000 [==============================] - 1231s 26ms/step - loss: 0.1313 - acc: 0.9520 - val_loss: 0.2075 - val_acc: 0.9328\n",
      "Epoch 10/10\n",
      "48000/48000 [==============================] - 1224s 26ms/step - loss: 0.1240 - acc: 0.9545 - val_loss: 0.1872 - val_acc: 0.9423\n"
     ]
    },
    {
     "data": {
      "text/plain": [
       "<keras.callbacks.History at 0x7f9b8b513048>"
      ]
     },
     "execution_count": 17,
     "metadata": {},
     "output_type": "execute_result"
    }
   ],
   "source": [
    "cnn5.fit(X_train, y_train,\n",
    "          batch_size=batch_size,\n",
    "          epochs=10,\n",
    "          verbose=1,\n",
    "          validation_data=(X_val, y_val))"
   ]
  },
  {
   "cell_type": "code",
   "execution_count": 20,
   "metadata": {
    "collapsed": false
   },
   "outputs": [
    {
     "name": "stdout",
     "output_type": "stream",
     "text": [
      "Test loss: 0.21374387829452754\n",
      "Test accuracy: 0.9325\n"
     ]
    }
   ],
   "source": [
    "score = cnn5.evaluate(X_test, y_test, verbose=0)\n",
    "print('Test loss:', score[0])\n",
    "print('Test accuracy:', score[1])"
   ]
  },
  {
   "cell_type": "code",
   "execution_count": 15,
   "metadata": {
    "collapsed": true
   },
   "outputs": [],
   "source": [
    "gen = ImageDataGenerator(rotation_range=8, width_shift_range=0.08, shear_range=0.3,\n",
    "                               height_shift_range=0.08, zoom_range=0.08)\n",
    "batches = gen.flow(X_train, y_train, batch_size=batch_size)\n",
    "val_batches = gen.flow(X_val, y_val, batch_size=batch_size)\n"
   ]
  },
  {
   "cell_type": "code",
   "execution_count": 16,
   "metadata": {
    "collapsed": false
   },
   "outputs": [
    {
     "name": "stdout",
     "output_type": "stream",
     "text": [
      "Epoch 1/50\n",
      "93/93 [==============================] - 1222s 13s/step - loss: 1.0081 - acc: 0.6548 - val_loss: 0.7504 - val_acc: 0.7347\n",
      "Epoch 2/50\n",
      "93/93 [==============================] - 1223s 13s/step - loss: 0.6181 - acc: 0.7673 - val_loss: 1.3811 - val_acc: 0.5908\n",
      "Epoch 3/50\n",
      "93/93 [==============================] - 1220s 13s/step - loss: 0.5011 - acc: 0.8147 - val_loss: 1.5170 - val_acc: 0.5789\n",
      "Epoch 4/50\n",
      "93/93 [==============================] - 1223s 13s/step - loss: 0.4328 - acc: 0.8379 - val_loss: 0.7951 - val_acc: 0.7198\n",
      "Epoch 5/50\n",
      "93/93 [==============================] - 1215s 13s/step - loss: 0.3933 - acc: 0.8562 - val_loss: 0.7945 - val_acc: 0.7313\n",
      "Epoch 6/50\n",
      "93/93 [==============================] - 1217s 13s/step - loss: 0.3613 - acc: 0.8678 - val_loss: 0.3355 - val_acc: 0.8793\n",
      "Epoch 7/50\n",
      "93/93 [==============================] - 1221s 13s/step - loss: 0.3433 - acc: 0.8743 - val_loss: 0.3183 - val_acc: 0.8845\n",
      "Epoch 8/50\n",
      "93/93 [==============================] - 1216s 13s/step - loss: 0.3165 - acc: 0.8836 - val_loss: 0.2885 - val_acc: 0.8993\n",
      "Epoch 9/50\n",
      "93/93 [==============================] - 1219s 13s/step - loss: 0.3084 - acc: 0.8870 - val_loss: 0.3169 - val_acc: 0.8864\n",
      "Epoch 10/50\n",
      "93/93 [==============================] - 1206s 13s/step - loss: 0.2950 - acc: 0.8928 - val_loss: 0.3182 - val_acc: 0.8891\n",
      "Epoch 11/50\n",
      "93/93 [==============================] - 1219s 13s/step - loss: 0.2875 - acc: 0.8953 - val_loss: 0.2611 - val_acc: 0.9051\n",
      "Epoch 12/50\n",
      "93/93 [==============================] - 1215s 13s/step - loss: 0.2777 - acc: 0.8991 - val_loss: 0.2645 - val_acc: 0.9077\n",
      "Epoch 13/50\n",
      "93/93 [==============================] - 1219s 13s/step - loss: 0.2668 - acc: 0.9028 - val_loss: 0.4128 - val_acc: 0.8643\n",
      "Epoch 14/50\n",
      "93/93 [==============================] - 1218s 13s/step - loss: 0.2648 - acc: 0.9037 - val_loss: 0.2382 - val_acc: 0.9141\n",
      "Epoch 15/50\n",
      "93/93 [==============================] - 1222s 13s/step - loss: 0.2560 - acc: 0.9063 - val_loss: 0.3171 - val_acc: 0.8905\n",
      "Epoch 16/50\n",
      "93/93 [==============================] - 1228s 13s/step - loss: 0.2492 - acc: 0.9091 - val_loss: 0.2333 - val_acc: 0.9179\n",
      "Epoch 17/50\n",
      "93/93 [==============================] - 1219s 13s/step - loss: 0.2421 - acc: 0.9110 - val_loss: 0.2361 - val_acc: 0.9142\n",
      "Epoch 18/50\n",
      "93/93 [==============================] - 1211s 13s/step - loss: 0.2370 - acc: 0.9139 - val_loss: 0.2583 - val_acc: 0.9057\n",
      "Epoch 19/50\n",
      "93/93 [==============================] - 1210s 13s/step - loss: 0.2337 - acc: 0.9141 - val_loss: 0.2463 - val_acc: 0.9141\n",
      "Epoch 20/50\n",
      "93/93 [==============================] - 1211s 13s/step - loss: 0.2311 - acc: 0.9149 - val_loss: 0.2194 - val_acc: 0.9220\n",
      "Epoch 21/50\n",
      "93/93 [==============================] - 1212s 13s/step - loss: 0.2249 - acc: 0.9179 - val_loss: 0.5258 - val_acc: 0.8973\n",
      "Epoch 22/50\n",
      "93/93 [==============================] - 1215s 13s/step - loss: 0.2169 - acc: 0.9211 - val_loss: 0.1998 - val_acc: 0.9272\n",
      "Epoch 23/50\n",
      "93/93 [==============================] - 1208s 13s/step - loss: 0.2194 - acc: 0.9196 - val_loss: 0.2720 - val_acc: 0.9062\n",
      "Epoch 24/50\n",
      "93/93 [==============================] - 1210s 13s/step - loss: 0.2114 - acc: 0.9215 - val_loss: 0.2105 - val_acc: 0.9262\n",
      "Epoch 25/50\n",
      "93/93 [==============================] - 1208s 13s/step - loss: 0.2107 - acc: 0.9234 - val_loss: 0.2075 - val_acc: 0.9255\n",
      "Epoch 26/50\n",
      "93/93 [==============================] - 1209s 13s/step - loss: 0.2054 - acc: 0.9251 - val_loss: 0.1961 - val_acc: 0.9331\n",
      "Epoch 27/50\n",
      "93/93 [==============================] - 1210s 13s/step - loss: 0.2036 - acc: 0.9257 - val_loss: 0.2167 - val_acc: 0.9253\n",
      "Epoch 28/50\n",
      "93/93 [==============================] - 1208s 13s/step - loss: 0.1997 - acc: 0.9281 - val_loss: 0.2185 - val_acc: 0.9234\n",
      "Epoch 29/50\n",
      "93/93 [==============================] - 1209s 13s/step - loss: 0.1943 - acc: 0.9282 - val_loss: 0.2336 - val_acc: 0.9181\n",
      "Epoch 30/50\n",
      "93/93 [==============================] - 1205s 13s/step - loss: 0.1969 - acc: 0.9272 - val_loss: 0.2113 - val_acc: 0.9264\n",
      "Epoch 31/50\n",
      "93/93 [==============================] - 1211s 13s/step - loss: 0.1932 - acc: 0.9289 - val_loss: 0.2063 - val_acc: 0.9263\n",
      "Epoch 32/50\n",
      "93/93 [==============================] - 1201s 13s/step - loss: 0.1899 - acc: 0.9310 - val_loss: 0.1991 - val_acc: 0.9312\n",
      "Epoch 33/50\n",
      "93/93 [==============================] - 1206s 13s/step - loss: 0.1869 - acc: 0.9310 - val_loss: 0.2172 - val_acc: 0.9251\n",
      "Epoch 34/50\n",
      "93/93 [==============================] - 1206s 13s/step - loss: 0.1811 - acc: 0.9334 - val_loss: 0.1998 - val_acc: 0.9308\n",
      "Epoch 35/50\n",
      "93/93 [==============================] - 1207s 13s/step - loss: 0.1775 - acc: 0.9346 - val_loss: 0.2094 - val_acc: 0.9276\n",
      "Epoch 36/50\n",
      "93/93 [==============================] - 1207s 13s/step - loss: 0.1805 - acc: 0.9351 - val_loss: 0.2030 - val_acc: 0.9293\n",
      "Epoch 37/50\n",
      "93/93 [==============================] - 1204s 13s/step - loss: 0.1768 - acc: 0.9349 - val_loss: 0.2217 - val_acc: 0.9231\n",
      "Epoch 38/50\n",
      "93/93 [==============================] - 1206s 13s/step - loss: 0.1751 - acc: 0.9354 - val_loss: 0.2026 - val_acc: 0.9287\n",
      "Epoch 39/50\n",
      "93/93 [==============================] - 1207s 13s/step - loss: 0.1696 - acc: 0.9388 - val_loss: 0.1926 - val_acc: 0.9360\n",
      "Epoch 40/50\n",
      "93/93 [==============================] - 1205s 13s/step - loss: 0.1693 - acc: 0.9385 - val_loss: 0.1878 - val_acc: 0.9348\n",
      "Epoch 41/50\n",
      "93/93 [==============================] - 1204s 13s/step - loss: 0.1645 - acc: 0.9400 - val_loss: 0.2178 - val_acc: 0.9263\n",
      "Epoch 42/50\n",
      "93/93 [==============================] - 1206s 13s/step - loss: 0.1611 - acc: 0.9416 - val_loss: 0.1826 - val_acc: 0.9358\n",
      "Epoch 43/50\n",
      "93/93 [==============================] - 1211s 13s/step - loss: 0.1613 - acc: 0.9414 - val_loss: 0.1850 - val_acc: 0.9375\n",
      "Epoch 44/50\n",
      "93/93 [==============================] - 1202s 13s/step - loss: 0.1585 - acc: 0.9440 - val_loss: 0.1971 - val_acc: 0.9310\n",
      "Epoch 45/50\n",
      "93/93 [==============================] - 1204s 13s/step - loss: 0.1563 - acc: 0.9425 - val_loss: 0.1953 - val_acc: 0.9334\n",
      "Epoch 46/50\n",
      "93/93 [==============================] - 1203s 13s/step - loss: 0.1534 - acc: 0.9455 - val_loss: 0.1888 - val_acc: 0.9342\n",
      "Epoch 47/50\n",
      "93/93 [==============================] - 1204s 13s/step - loss: 0.1564 - acc: 0.9423 - val_loss: 0.1923 - val_acc: 0.9367\n",
      "Epoch 48/50\n",
      "93/93 [==============================] - 1200s 13s/step - loss: 0.1505 - acc: 0.9441 - val_loss: 0.1965 - val_acc: 0.9319\n",
      "Epoch 49/50\n",
      "93/93 [==============================] - 1206s 13s/step - loss: 0.1465 - acc: 0.9456 - val_loss: 0.1844 - val_acc: 0.9354\n",
      "Epoch 50/50\n",
      "93/93 [==============================] - 1206s 13s/step - loss: 0.1404 - acc: 0.9492 - val_loss: 0.1797 - val_acc: 0.9383\n"
     ]
    },
    {
     "data": {
      "text/plain": [
       "<keras.callbacks.History at 0x7f693e7f5c88>"
      ]
     },
     "execution_count": 16,
     "metadata": {},
     "output_type": "execute_result"
    }
   ],
   "source": [
    "cnn5.fit_generator(batches, steps_per_epoch=48000//batch_size, epochs=50,\n",
    "                    validation_data=val_batches, validation_steps=12000//batch_size, use_multiprocessing=True)"
   ]
  },
  {
   "cell_type": "code",
   "execution_count": 18,
   "metadata": {
    "collapsed": false
   },
   "outputs": [
    {
     "name": "stdout",
     "output_type": "stream",
     "text": [
      "Test loss: 0.1863873804986477\n",
      "Test accuracy: 0.9371\n"
     ]
    }
   ],
   "source": [
    "score = cnn5.evaluate(X_test, y_test, verbose=0)\n",
    "print('Test loss:', score[0])\n",
    "print('Test accuracy:', score[1])"
   ]
  },
  {
   "cell_type": "code",
   "execution_count": null,
   "metadata": {
    "collapsed": true
   },
   "outputs": [],
   "source": []
  }
 ],
 "metadata": {
  "kernelspec": {
   "display_name": "Python 3",
   "language": "python",
   "name": "python3"
  },
  "language_info": {
   "codemirror_mode": {
    "name": "ipython",
    "version": 3
   },
   "file_extension": ".py",
   "mimetype": "text/x-python",
   "name": "python",
   "nbconvert_exporter": "python",
   "pygments_lexer": "ipython3",
   "version": "3.5.1"
  }
 },
 "nbformat": 4,
 "nbformat_minor": 0
}
