{
 "cells": [
  {
   "cell_type": "code",
   "execution_count": 1,
   "metadata": {
    "collapsed": true
   },
   "outputs": [],
   "source": [
    "## CNN with 3 Convolutional Layers"
   ]
  },
  {
   "cell_type": "code",
   "execution_count": 2,
   "metadata": {
    "collapsed": false
   },
   "outputs": [
    {
     "name": "stderr",
     "output_type": "stream",
     "text": [
      "Using TensorFlow backend.\n"
     ]
    }
   ],
   "source": [
    "import keras\n",
    "from keras.datasets import mnist\n",
    "from keras.models import Sequential\n",
    "from keras.layers import Dense, Dropout, Flatten, Lambda\n",
    "from keras.layers import Conv2D, MaxPooling2D, BatchNormalization\n",
    "from keras.optimizers import Adam\n",
    "#import matplotlib.pyplot as plt\n",
    "#import matplotlib.image as mpimg\n",
    "from keras.preprocessing.image import ImageDataGenerator\n",
    "import numpy as np\n",
    "#import pandas as pd\n",
    "np.random.seed(12345)\n",
    "#%matplotlib inline"
   ]
  },
  {
   "cell_type": "code",
   "execution_count": 3,
   "metadata": {
    "collapsed": true
   },
   "outputs": [],
   "source": [
    "train_images_path = keras.utils.get_file('train-images-idx3-ubyte.gz', 'https://raw.githubusercontent.com/zalandoresearch/fashion-mnist/master/data/fashion/train-images-idx3-ubyte.gz')\n",
    "train_labels_path = keras.utils.get_file('train-labels-idx1-ubyte.gz', 'https://raw.githubusercontent.com/zalandoresearch/fashion-mnist/master/data/fashion/train-labels-idx1-ubyte.gz')\n",
    "test_images_path = keras.utils.get_file('t10k-images-idx3-ubyte.gz', 'https://raw.githubusercontent.com/zalandoresearch/fashion-mnist/master/data/fashion/t10k-images-idx3-ubyte.gz')\n",
    "test_labels_path = keras.utils.get_file('t10k-labels-idx1-ubyte.gz', 'https://raw.githubusercontent.com/zalandoresearch/fashion-mnist/master/data/fashion/t10k-labels-idx1-ubyte.gz')\n"
   ]
  },
  {
   "cell_type": "code",
   "execution_count": 4,
   "metadata": {
    "collapsed": true
   },
   "outputs": [],
   "source": [
    "batch_size = 512"
   ]
  },
  {
   "cell_type": "code",
   "execution_count": 5,
   "metadata": {
    "collapsed": true
   },
   "outputs": [],
   "source": [
    "def load_mnist(images_path, labels_path):\n",
    "    import os\n",
    "    import gzip\n",
    "    import numpy as np\n",
    "\n",
    "    with gzip.open(labels_path, 'rb') as lbpath:\n",
    "        labels = np.frombuffer(lbpath.read(), dtype=np.uint8,\n",
    "                               offset=8)\n",
    "\n",
    "    with gzip.open(images_path, 'rb') as imgpath:\n",
    "        images = np.frombuffer(imgpath.read(), dtype=np.uint8,\n",
    "                               offset=16).reshape(len(labels), 784)\n",
    "\n",
    "    return images, labels"
   ]
  },
  {
   "cell_type": "code",
   "execution_count": 6,
   "metadata": {
    "collapsed": true
   },
   "outputs": [],
   "source": [
    "X_train_orig, y_train_orig = load_mnist(train_images_path, train_labels_path)\n",
    "X_test, y_test = load_mnist(test_images_path, test_labels_path)\n",
    "X_train_orig = X_train_orig.astype('float32')\n",
    "X_test = X_test.astype('float32')\n",
    "X_train_orig /= 255\n",
    "X_test /= 255"
   ]
  },
  {
   "cell_type": "code",
   "execution_count": 7,
   "metadata": {
    "collapsed": false
   },
   "outputs": [
    {
     "name": "stdout",
     "output_type": "stream",
     "text": [
      "(60000, 784)\n",
      "(60000,)\n",
      "(10000, 784)\n",
      "(10000,)\n"
     ]
    }
   ],
   "source": [
    "print(X_train_orig.shape)\n",
    "print(y_train_orig.shape)\n",
    "print(X_test.shape)\n",
    "print(y_test.shape)"
   ]
  },
  {
   "cell_type": "code",
   "execution_count": 8,
   "metadata": {
    "collapsed": true
   },
   "outputs": [],
   "source": [
    "from sklearn.model_selection import train_test_split\n",
    "X_train, X_val, y_train, y_val = train_test_split(X_train_orig, y_train_orig, test_size=0.2, random_state=12345)"
   ]
  },
  {
   "cell_type": "code",
   "execution_count": 9,
   "metadata": {
    "collapsed": false
   },
   "outputs": [
    {
     "name": "stdout",
     "output_type": "stream",
     "text": [
      "(48000, 784)\n",
      "(48000,)\n",
      "(12000, 784)\n",
      "(12000,)\n"
     ]
    }
   ],
   "source": [
    "print(X_train.shape)\n",
    "print(y_train.shape)\n",
    "print(X_val.shape)\n",
    "print(y_val.shape)"
   ]
  },
  {
   "cell_type": "code",
   "execution_count": 10,
   "metadata": {
    "collapsed": false
   },
   "outputs": [],
   "source": [
    "#plt.imshow(X_train[1, :].reshape((28, 28)))"
   ]
  },
  {
   "cell_type": "code",
   "execution_count": 11,
   "metadata": {
    "collapsed": true
   },
   "outputs": [],
   "source": [
    "img_rows = 28\n",
    "img_cols = 28\n",
    "input_shape = (img_rows, img_cols, 1)\n",
    "X_train = X_train.reshape(X_train.shape[0], img_rows, img_cols, 1)\n",
    "X_test = X_test.reshape(X_test.shape[0], img_rows, img_cols, 1)\n",
    "X_val = X_val.reshape(X_val.shape[0], img_rows, img_cols, 1)"
   ]
  },
  {
   "cell_type": "code",
   "execution_count": 12,
   "metadata": {
    "collapsed": true
   },
   "outputs": [],
   "source": [
    "# CNN with 3 Convolutional Layers"
   ]
  },
  {
   "cell_type": "code",
   "execution_count": 13,
   "metadata": {
    "collapsed": true
   },
   "outputs": [],
   "source": [
    "cnn2 = Sequential([\n",
    "    Conv2D(32, kernel_size=(3, 3), activation='relu', input_shape=input_shape),\n",
    "    MaxPooling2D(pool_size=(2, 2)),\n",
    "    Dropout(0.2),\n",
    "\n",
    "    Conv2D(64, kernel_size=(3, 3), activation='relu'),\n",
    "    MaxPooling2D(pool_size=(2, 2)),\n",
    "    Dropout(0.2),\n",
    "\n",
    "    Conv2D(128, kernel_size=(3, 3), activation='relu'),\n",
    "    Dropout(0.2),\n",
    "\n",
    "    Flatten(),\n",
    "\n",
    "    Dense(128, activation='relu'),\n",
    "    Dropout(0.2),\n",
    "    Dense(10, activation='softmax')])\n"
   ]
  },
  {
   "cell_type": "code",
   "execution_count": 14,
   "metadata": {
    "collapsed": true
   },
   "outputs": [],
   "source": [
    "cnn2.compile(loss='sparse_categorical_crossentropy',\n",
    "              optimizer=Adam(lr=0.001),\n",
    "              metrics=['accuracy'])"
   ]
  },
  {
   "cell_type": "code",
   "execution_count": 15,
   "metadata": {
    "collapsed": false
   },
   "outputs": [
    {
     "name": "stdout",
     "output_type": "stream",
     "text": [
      "Train on 48000 samples, validate on 12000 samples\n",
      "Epoch 1/10\n",
      "48000/48000 [==============================] - 36s 752us/step - loss: 0.9347 - acc: 0.6523 - val_loss: 0.5534 - val_acc: 0.7867\n",
      "Epoch 2/10\n",
      "48000/48000 [==============================] - 35s 738us/step - loss: 0.5545 - acc: 0.7893 - val_loss: 0.4429 - val_acc: 0.8358\n",
      "Epoch 3/10\n",
      "48000/48000 [==============================] - 26s 545us/step - loss: 0.4781 - acc: 0.8217 - val_loss: 0.4003 - val_acc: 0.8567\n",
      "Epoch 4/10\n",
      "48000/48000 [==============================] - 26s 541us/step - loss: 0.4276 - acc: 0.8407 - val_loss: 0.3589 - val_acc: 0.8738\n",
      "Epoch 5/10\n",
      "48000/48000 [==============================] - 36s 744us/step - loss: 0.3958 - acc: 0.8564 - val_loss: 0.3272 - val_acc: 0.8833\n",
      "Epoch 6/10\n",
      "48000/48000 [==============================] - 36s 745us/step - loss: 0.3762 - acc: 0.8615 - val_loss: 0.3106 - val_acc: 0.8893\n",
      "Epoch 7/10\n",
      "48000/48000 [==============================] - 35s 740us/step - loss: 0.3580 - acc: 0.8674 - val_loss: 0.2970 - val_acc: 0.8943\n",
      "Epoch 8/10\n",
      "48000/48000 [==============================] - 36s 744us/step - loss: 0.3379 - acc: 0.8772 - val_loss: 0.2838 - val_acc: 0.8986\n",
      "Epoch 9/10\n",
      "48000/48000 [==============================] - 36s 749us/step - loss: 0.3256 - acc: 0.8801 - val_loss: 0.2804 - val_acc: 0.8984\n",
      "Epoch 10/10\n",
      "48000/48000 [==============================] - 33s 698us/step - loss: 0.3147 - acc: 0.8832 - val_loss: 0.2773 - val_acc: 0.9018\n"
     ]
    },
    {
     "data": {
      "text/plain": [
       "<keras.callbacks.History at 0x7f2ce5bbac18>"
      ]
     },
     "execution_count": 15,
     "metadata": {},
     "output_type": "execute_result"
    }
   ],
   "source": [
    "cnn2.fit(X_train, y_train,\n",
    "          batch_size=batch_size,\n",
    "          epochs=10,\n",
    "          verbose=1,\n",
    "          validation_data=(X_val, y_val))"
   ]
  },
  {
   "cell_type": "code",
   "execution_count": 16,
   "metadata": {
    "collapsed": true
   },
   "outputs": [],
   "source": [
    "cnn2.optimizer.lr = 0.0001"
   ]
  },
  {
   "cell_type": "code",
   "execution_count": 17,
   "metadata": {
    "collapsed": false
   },
   "outputs": [
    {
     "name": "stdout",
     "output_type": "stream",
     "text": [
      "Train on 48000 samples, validate on 12000 samples\n",
      "Epoch 1/10\n",
      "48000/48000 [==============================] - 22s 460us/step - loss: 0.3037 - acc: 0.8885 - val_loss: 0.2627 - val_acc: 0.9045\n",
      "Epoch 2/10\n",
      "48000/48000 [==============================] - 23s 471us/step - loss: 0.2941 - acc: 0.8912 - val_loss: 0.2619 - val_acc: 0.9053\n",
      "Epoch 3/10\n",
      "48000/48000 [==============================] - 23s 472us/step - loss: 0.2818 - acc: 0.8956 - val_loss: 0.2514 - val_acc: 0.9105\n",
      "Epoch 4/10\n",
      "48000/48000 [==============================] - 23s 487us/step - loss: 0.2776 - acc: 0.8975 - val_loss: 0.2484 - val_acc: 0.9122\n",
      "Epoch 5/10\n",
      "48000/48000 [==============================] - 30s 622us/step - loss: 0.2744 - acc: 0.8986 - val_loss: 0.2583 - val_acc: 0.9048\n",
      "Epoch 6/10\n",
      "48000/48000 [==============================] - 39s 807us/step - loss: 0.2658 - acc: 0.8992 - val_loss: 0.2412 - val_acc: 0.9133\n",
      "Epoch 7/10\n",
      "48000/48000 [==============================] - 39s 810us/step - loss: 0.2627 - acc: 0.9015 - val_loss: 0.2448 - val_acc: 0.9089\n",
      "Epoch 8/10\n",
      "48000/48000 [==============================] - 39s 820us/step - loss: 0.2565 - acc: 0.9047 - val_loss: 0.2328 - val_acc: 0.9178\n",
      "Epoch 9/10\n",
      "48000/48000 [==============================] - 38s 796us/step - loss: 0.2463 - acc: 0.9084 - val_loss: 0.2498 - val_acc: 0.9066\n",
      "Epoch 10/10\n",
      "48000/48000 [==============================] - 39s 819us/step - loss: 0.2444 - acc: 0.9091 - val_loss: 0.2317 - val_acc: 0.9153\n"
     ]
    },
    {
     "data": {
      "text/plain": [
       "<keras.callbacks.History at 0x7f2cdd4f7128>"
      ]
     },
     "execution_count": 17,
     "metadata": {},
     "output_type": "execute_result"
    }
   ],
   "source": [
    "cnn2.fit(X_train, y_train,\n",
    "          batch_size=batch_size,\n",
    "          epochs=10,\n",
    "          verbose=1,\n",
    "          validation_data=(X_val, y_val))"
   ]
  },
  {
   "cell_type": "code",
   "execution_count": 18,
   "metadata": {
    "collapsed": false
   },
   "outputs": [
    {
     "name": "stdout",
     "output_type": "stream",
     "text": [
      "Test loss: 0.2584251694202423\n",
      "Test accuracy: 0.9061\n"
     ]
    }
   ],
   "source": [
    "score = cnn2.evaluate(X_test, y_test, verbose=0)\n",
    "print('Test loss:', score[0])\n",
    "print('Test accuracy:', score[1])"
   ]
  },
  {
   "cell_type": "code",
   "execution_count": 19,
   "metadata": {
    "collapsed": true
   },
   "outputs": [],
   "source": [
    "# Data Augmentation"
   ]
  },
  {
   "cell_type": "code",
   "execution_count": 20,
   "metadata": {
    "collapsed": true
   },
   "outputs": [],
   "source": [
    "gen = ImageDataGenerator(rotation_range=8, width_shift_range=0.08, shear_range=0.3,\n",
    "                               height_shift_range=0.08, zoom_range=0.08)\n",
    "batches = gen.flow(X_train, y_train, batch_size=batch_size)\n",
    "val_batches = gen.flow(X_val, y_val, batch_size=batch_size)\n"
   ]
  },
  {
   "cell_type": "code",
   "execution_count": 21,
   "metadata": {
    "collapsed": false
   },
   "outputs": [
    {
     "name": "stdout",
     "output_type": "stream",
     "text": [
      "Epoch 1/50\n",
      "93/93 [==============================] - 41s 441ms/step - loss: 0.4368 - acc: 0.8357 - val_loss: 0.3525 - val_acc: 0.8685\n",
      "Epoch 2/50\n",
      "93/93 [==============================] - 40s 432ms/step - loss: 0.3972 - acc: 0.8500 - val_loss: 0.3464 - val_acc: 0.8668\n",
      "Epoch 3/50\n",
      "93/93 [==============================] - 41s 443ms/step - loss: 0.3856 - acc: 0.8538 - val_loss: 0.3269 - val_acc: 0.8772\n",
      "Epoch 4/50\n",
      "93/93 [==============================] - 40s 429ms/step - loss: 0.3731 - acc: 0.8599 - val_loss: 0.3263 - val_acc: 0.8759\n",
      "Epoch 5/50\n",
      "93/93 [==============================] - 41s 439ms/step - loss: 0.3634 - acc: 0.8645 - val_loss: 0.3048 - val_acc: 0.8879\n",
      "Epoch 6/50\n",
      "93/93 [==============================] - 39s 424ms/step - loss: 0.3607 - acc: 0.8646 - val_loss: 0.3095 - val_acc: 0.8831\n",
      "Epoch 7/50\n",
      "93/93 [==============================] - 41s 441ms/step - loss: 0.3514 - acc: 0.8688 - val_loss: 0.3013 - val_acc: 0.8882\n",
      "Epoch 8/50\n",
      "93/93 [==============================] - 40s 428ms/step - loss: 0.3447 - acc: 0.8701 - val_loss: 0.2947 - val_acc: 0.8915\n",
      "Epoch 9/50\n",
      "93/93 [==============================] - 41s 442ms/step - loss: 0.3417 - acc: 0.8717 - val_loss: 0.2951 - val_acc: 0.8911\n",
      "Epoch 10/50\n",
      "93/93 [==============================] - 40s 432ms/step - loss: 0.3405 - acc: 0.8721 - val_loss: 0.2966 - val_acc: 0.8881\n",
      "Epoch 11/50\n",
      "93/93 [==============================] - 41s 441ms/step - loss: 0.3335 - acc: 0.8743 - val_loss: 0.2904 - val_acc: 0.8920\n",
      "Epoch 12/50\n",
      "93/93 [==============================] - 40s 431ms/step - loss: 0.3291 - acc: 0.8755 - val_loss: 0.2808 - val_acc: 0.8944\n",
      "Epoch 13/50\n",
      "93/93 [==============================] - 41s 436ms/step - loss: 0.3267 - acc: 0.8767 - val_loss: 0.2880 - val_acc: 0.8907\n",
      "Epoch 14/50\n",
      "93/93 [==============================] - 40s 431ms/step - loss: 0.3251 - acc: 0.8802 - val_loss: 0.2746 - val_acc: 0.9000\n",
      "Epoch 15/50\n",
      "93/93 [==============================] - 41s 438ms/step - loss: 0.3203 - acc: 0.8808 - val_loss: 0.2764 - val_acc: 0.8959\n",
      "Epoch 16/50\n",
      "93/93 [==============================] - 40s 433ms/step - loss: 0.3208 - acc: 0.8799 - val_loss: 0.2865 - val_acc: 0.8924\n",
      "Epoch 17/50\n",
      "93/93 [==============================] - 41s 442ms/step - loss: 0.3163 - acc: 0.8801 - val_loss: 0.2870 - val_acc: 0.8898\n",
      "Epoch 18/50\n",
      "93/93 [==============================] - 42s 448ms/step - loss: 0.3157 - acc: 0.8817 - val_loss: 0.2790 - val_acc: 0.8943\n",
      "Epoch 19/50\n",
      "93/93 [==============================] - 64s 690ms/step - loss: 0.3074 - acc: 0.8842 - val_loss: 0.2684 - val_acc: 0.9024\n",
      "Epoch 20/50\n",
      "93/93 [==============================] - 64s 685ms/step - loss: 0.3074 - acc: 0.8844 - val_loss: 0.2749 - val_acc: 0.8964\n",
      "Epoch 21/50\n",
      "93/93 [==============================] - 65s 695ms/step - loss: 0.3081 - acc: 0.8848 - val_loss: 0.2957 - val_acc: 0.8838\n",
      "Epoch 22/50\n",
      "93/93 [==============================] - 64s 685ms/step - loss: 0.3013 - acc: 0.8860 - val_loss: 0.2644 - val_acc: 0.9031\n",
      "Epoch 23/50\n",
      "93/93 [==============================] - 65s 694ms/step - loss: 0.2993 - acc: 0.8884 - val_loss: 0.2663 - val_acc: 0.9018\n",
      "Epoch 24/50\n",
      "93/93 [==============================] - 65s 702ms/step - loss: 0.3009 - acc: 0.8866 - val_loss: 0.2619 - val_acc: 0.9078\n",
      "Epoch 25/50\n",
      "93/93 [==============================] - 66s 714ms/step - loss: 0.3030 - acc: 0.8868 - val_loss: 0.2614 - val_acc: 0.9044\n",
      "Epoch 26/50\n",
      "93/93 [==============================] - 54s 586ms/step - loss: 0.2925 - acc: 0.8897 - val_loss: 0.2817 - val_acc: 0.8907\n",
      "Epoch 27/50\n",
      "93/93 [==============================] - 47s 510ms/step - loss: 0.2991 - acc: 0.8881 - val_loss: 0.2629 - val_acc: 0.9016\n",
      "Epoch 28/50\n",
      "93/93 [==============================] - 47s 505ms/step - loss: 0.2952 - acc: 0.8897 - val_loss: 0.2653 - val_acc: 0.9010\n",
      "Epoch 29/50\n",
      "93/93 [==============================] - 47s 511ms/step - loss: 0.2884 - acc: 0.8919 - val_loss: 0.2504 - val_acc: 0.9071\n",
      "Epoch 30/50\n",
      "93/93 [==============================] - 48s 513ms/step - loss: 0.2931 - acc: 0.8896 - val_loss: 0.2630 - val_acc: 0.9026\n",
      "Epoch 31/50\n",
      "93/93 [==============================] - 50s 532ms/step - loss: 0.2923 - acc: 0.8896 - val_loss: 0.2537 - val_acc: 0.9064\n",
      "Epoch 32/50\n",
      "93/93 [==============================] - 48s 517ms/step - loss: 0.2852 - acc: 0.8921 - val_loss: 0.2488 - val_acc: 0.9073\n",
      "Epoch 33/50\n",
      "93/93 [==============================] - 48s 513ms/step - loss: 0.2867 - acc: 0.8925 - val_loss: 0.2540 - val_acc: 0.9069\n",
      "Epoch 34/50\n",
      "93/93 [==============================] - 48s 515ms/step - loss: 0.2882 - acc: 0.8914 - val_loss: 0.2527 - val_acc: 0.9054\n",
      "Epoch 35/50\n",
      "93/93 [==============================] - 49s 522ms/step - loss: 0.2808 - acc: 0.8950 - val_loss: 0.2447 - val_acc: 0.9104\n",
      "Epoch 36/50\n",
      "93/93 [==============================] - 48s 513ms/step - loss: 0.2821 - acc: 0.8935 - val_loss: 0.2511 - val_acc: 0.9083\n",
      "Epoch 37/50\n",
      "93/93 [==============================] - 47s 510ms/step - loss: 0.2808 - acc: 0.8953 - val_loss: 0.2583 - val_acc: 0.9053\n",
      "Epoch 38/50\n",
      "93/93 [==============================] - 50s 537ms/step - loss: 0.2774 - acc: 0.8940 - val_loss: 0.2413 - val_acc: 0.9108\n",
      "Epoch 39/50\n",
      "93/93 [==============================] - 48s 516ms/step - loss: 0.2802 - acc: 0.8960 - val_loss: 0.2441 - val_acc: 0.9107\n",
      "Epoch 40/50\n",
      "93/93 [==============================] - 48s 514ms/step - loss: 0.2753 - acc: 0.8961 - val_loss: 0.2544 - val_acc: 0.9053\n",
      "Epoch 41/50\n",
      "93/93 [==============================] - 48s 511ms/step - loss: 0.2738 - acc: 0.8972 - val_loss: 0.2508 - val_acc: 0.9074\n",
      "Epoch 42/50\n",
      "93/93 [==============================] - 48s 517ms/step - loss: 0.2730 - acc: 0.8991 - val_loss: 0.2361 - val_acc: 0.9108\n",
      "Epoch 43/50\n",
      "93/93 [==============================] - 48s 518ms/step - loss: 0.2770 - acc: 0.8941 - val_loss: 0.2467 - val_acc: 0.9088\n",
      "Epoch 44/50\n",
      "93/93 [==============================] - 50s 534ms/step - loss: 0.2702 - acc: 0.8987 - val_loss: 0.2406 - val_acc: 0.9126\n",
      "Epoch 45/50\n",
      "93/93 [==============================] - 48s 513ms/step - loss: 0.2712 - acc: 0.8982 - val_loss: 0.2400 - val_acc: 0.9132\n",
      "Epoch 46/50\n",
      "93/93 [==============================] - 48s 519ms/step - loss: 0.2769 - acc: 0.8954 - val_loss: 0.2419 - val_acc: 0.9097\n",
      "Epoch 47/50\n",
      "93/93 [==============================] - 48s 516ms/step - loss: 0.2679 - acc: 0.8979 - val_loss: 0.2461 - val_acc: 0.9080\n",
      "Epoch 48/50\n",
      "93/93 [==============================] - 48s 520ms/step - loss: 0.2658 - acc: 0.8994 - val_loss: 0.2397 - val_acc: 0.9153\n",
      "Epoch 49/50\n",
      "93/93 [==============================] - 48s 513ms/step - loss: 0.2694 - acc: 0.8995 - val_loss: 0.2439 - val_acc: 0.9070\n",
      "Epoch 50/50\n",
      "93/93 [==============================] - 50s 542ms/step - loss: 0.2673 - acc: 0.8993 - val_loss: 0.2355 - val_acc: 0.9130\n"
     ]
    },
    {
     "data": {
      "text/plain": [
       "<keras.callbacks.History at 0x7f2cdd4f7908>"
      ]
     },
     "execution_count": 21,
     "metadata": {},
     "output_type": "execute_result"
    }
   ],
   "source": [
    "cnn2.fit_generator(batches, steps_per_epoch=48000//batch_size, epochs=50,\n",
    "                    validation_data=val_batches, validation_steps=12000//batch_size, use_multiprocessing=True)"
   ]
  },
  {
   "cell_type": "code",
   "execution_count": 22,
   "metadata": {
    "collapsed": false
   },
   "outputs": [
    {
     "name": "stdout",
     "output_type": "stream",
     "text": [
      "Test loss: 0.23612231316566468\n",
      "Test accuracy: 0.9123\n"
     ]
    }
   ],
   "source": [
    "score = cnn2.evaluate(X_test, y_test, verbose=0)\n",
    "print('Test loss:', score[0])\n",
    "print('Test accuracy:', score[1])"
   ]
  },
  {
   "cell_type": "code",
   "execution_count": 23,
   "metadata": {
    "collapsed": false
   },
   "outputs": [
    {
     "name": "stdout",
     "output_type": "stream",
     "text": [
      "_________________________________________________________________\n",
      "Layer (type)                 Output Shape              Param #   \n",
      "=================================================================\n",
      "conv2d_1 (Conv2D)            (None, 26, 26, 32)        320       \n",
      "_________________________________________________________________\n",
      "max_pooling2d_1 (MaxPooling2 (None, 13, 13, 32)        0         \n",
      "_________________________________________________________________\n",
      "dropout_1 (Dropout)          (None, 13, 13, 32)        0         \n",
      "_________________________________________________________________\n",
      "conv2d_2 (Conv2D)            (None, 11, 11, 64)        18496     \n",
      "_________________________________________________________________\n",
      "max_pooling2d_2 (MaxPooling2 (None, 5, 5, 64)          0         \n",
      "_________________________________________________________________\n",
      "dropout_2 (Dropout)          (None, 5, 5, 64)          0         \n",
      "_________________________________________________________________\n",
      "conv2d_3 (Conv2D)            (None, 3, 3, 128)         73856     \n",
      "_________________________________________________________________\n",
      "dropout_3 (Dropout)          (None, 3, 3, 128)         0         \n",
      "_________________________________________________________________\n",
      "flatten_1 (Flatten)          (None, 1152)              0         \n",
      "_________________________________________________________________\n",
      "dense_1 (Dense)              (None, 128)               147584    \n",
      "_________________________________________________________________\n",
      "dropout_4 (Dropout)          (None, 128)               0         \n",
      "_________________________________________________________________\n",
      "dense_2 (Dense)              (None, 10)                1290      \n",
      "=================================================================\n",
      "Total params: 241,546\n",
      "Trainable params: 241,546\n",
      "Non-trainable params: 0\n",
      "_________________________________________________________________\n"
     ]
    }
   ],
   "source": [
    "cnn2.summary()"
   ]
  },
  {
   "cell_type": "code",
   "execution_count": null,
   "metadata": {
    "collapsed": true
   },
   "outputs": [],
   "source": []
  }
 ],
 "metadata": {
  "kernelspec": {
   "display_name": "Python 3",
   "language": "python",
   "name": "python3"
  },
  "language_info": {
   "codemirror_mode": {
    "name": "ipython",
    "version": 3
   },
   "file_extension": ".py",
   "mimetype": "text/x-python",
   "name": "python",
   "nbconvert_exporter": "python",
   "pygments_lexer": "ipython3",
   "version": "3.5.1"
  }
 },
 "nbformat": 4,
 "nbformat_minor": 2
}
