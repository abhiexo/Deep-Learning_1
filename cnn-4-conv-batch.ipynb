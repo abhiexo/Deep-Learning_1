{
 "cells": [
  {
   "cell_type": "code",
   "execution_count": 1,
   "metadata": {
    "collapsed": true
   },
   "outputs": [],
   "source": [
    "## CNN with 4 Convolutional Layers and Batch Normalization"
   ]
  },
  {
   "cell_type": "code",
   "execution_count": 2,
   "metadata": {
    "collapsed": false
   },
   "outputs": [
    {
     "name": "stderr",
     "output_type": "stream",
     "text": [
      "Using TensorFlow backend.\n"
     ]
    }
   ],
   "source": [
    "import keras\n",
    "from keras.datasets import mnist\n",
    "from keras.models import Sequential\n",
    "from keras.layers import Dense, Dropout, Flatten, Lambda\n",
    "from keras.layers import Conv2D, MaxPooling2D, BatchNormalization\n",
    "from keras.optimizers import Adam\n",
    "#import matplotlib.pyplot as plt\n",
    "#import matplotlib.image as mpimg\n",
    "from keras.preprocessing.image import ImageDataGenerator\n",
    "import numpy as np\n",
    "#import pandas as pd\n",
    "np.random.seed(12345)\n",
    "#%matplotlib inline"
   ]
  },
  {
   "cell_type": "code",
   "execution_count": 3,
   "metadata": {
    "collapsed": true
   },
   "outputs": [],
   "source": [
    "train_images_path = keras.utils.get_file('train-images-idx3-ubyte.gz', 'https://raw.githubusercontent.com/zalandoresearch/fashion-mnist/master/data/fashion/train-images-idx3-ubyte.gz')\n",
    "train_labels_path = keras.utils.get_file('train-labels-idx1-ubyte.gz', 'https://raw.githubusercontent.com/zalandoresearch/fashion-mnist/master/data/fashion/train-labels-idx1-ubyte.gz')\n",
    "test_images_path = keras.utils.get_file('t10k-images-idx3-ubyte.gz', 'https://raw.githubusercontent.com/zalandoresearch/fashion-mnist/master/data/fashion/t10k-images-idx3-ubyte.gz')\n",
    "test_labels_path = keras.utils.get_file('t10k-labels-idx1-ubyte.gz', 'https://raw.githubusercontent.com/zalandoresearch/fashion-mnist/master/data/fashion/t10k-labels-idx1-ubyte.gz')\n"
   ]
  },
  {
   "cell_type": "code",
   "execution_count": 4,
   "metadata": {
    "collapsed": true
   },
   "outputs": [],
   "source": [
    "batch_size = 512"
   ]
  },
  {
   "cell_type": "code",
   "execution_count": 5,
   "metadata": {
    "collapsed": true
   },
   "outputs": [],
   "source": [
    "def load_mnist(images_path, labels_path):\n",
    "    import os\n",
    "    import gzip\n",
    "    import numpy as np\n",
    "\n",
    "    with gzip.open(labels_path, 'rb') as lbpath:\n",
    "        labels = np.frombuffer(lbpath.read(), dtype=np.uint8,\n",
    "                               offset=8)\n",
    "\n",
    "    with gzip.open(images_path, 'rb') as imgpath:\n",
    "        images = np.frombuffer(imgpath.read(), dtype=np.uint8,\n",
    "                               offset=16).reshape(len(labels), 784)\n",
    "\n",
    "    return images, labels"
   ]
  },
  {
   "cell_type": "code",
   "execution_count": 6,
   "metadata": {
    "collapsed": true
   },
   "outputs": [],
   "source": [
    "X_train_orig, y_train_orig = load_mnist(train_images_path, train_labels_path)\n",
    "X_test, y_test = load_mnist(test_images_path, test_labels_path)\n",
    "X_train_orig = X_train_orig.astype('float32')\n",
    "X_test = X_test.astype('float32')\n",
    "X_train_orig /= 255\n",
    "X_test /= 255"
   ]
  },
  {
   "cell_type": "code",
   "execution_count": 7,
   "metadata": {
    "collapsed": false
   },
   "outputs": [
    {
     "name": "stdout",
     "output_type": "stream",
     "text": [
      "(60000, 784)\n",
      "(60000,)\n",
      "(10000, 784)\n",
      "(10000,)\n"
     ]
    }
   ],
   "source": [
    "print(X_train_orig.shape)\n",
    "print(y_train_orig.shape)\n",
    "print(X_test.shape)\n",
    "print(y_test.shape)"
   ]
  },
  {
   "cell_type": "code",
   "execution_count": 8,
   "metadata": {
    "collapsed": true
   },
   "outputs": [],
   "source": [
    "from sklearn.model_selection import train_test_split\n",
    "X_train, X_val, y_train, y_val = train_test_split(X_train_orig, y_train_orig, test_size=0.2, random_state=12345)"
   ]
  },
  {
   "cell_type": "code",
   "execution_count": 9,
   "metadata": {
    "collapsed": false
   },
   "outputs": [
    {
     "name": "stdout",
     "output_type": "stream",
     "text": [
      "(48000, 784)\n",
      "(48000,)\n",
      "(12000, 784)\n",
      "(12000,)\n"
     ]
    }
   ],
   "source": [
    "print(X_train.shape)\n",
    "print(y_train.shape)\n",
    "print(X_val.shape)\n",
    "print(y_val.shape)"
   ]
  },
  {
   "cell_type": "code",
   "execution_count": 10,
   "metadata": {
    "collapsed": false
   },
   "outputs": [],
   "source": [
    "#plt.imshow(X_train[1, :].reshape((28, 28)))"
   ]
  },
  {
   "cell_type": "code",
   "execution_count": 11,
   "metadata": {
    "collapsed": true
   },
   "outputs": [],
   "source": [
    "img_rows = 28\n",
    "img_cols = 28\n",
    "input_shape = (img_rows, img_cols, 1)\n",
    "X_train = X_train.reshape(X_train.shape[0], img_rows, img_cols, 1)\n",
    "X_test = X_test.reshape(X_test.shape[0], img_rows, img_cols, 1)\n",
    "X_val = X_val.reshape(X_val.shape[0], img_rows, img_cols, 1)"
   ]
  },
  {
   "cell_type": "code",
   "execution_count": 12,
   "metadata": {
    "collapsed": true
   },
   "outputs": [],
   "source": [
    "mean_px = X_train.mean().astype(np.float32)\n",
    "std_px = X_train.std().astype(np.float32)\n",
    "def norm_input(x): return (x-mean_px)/std_px"
   ]
  },
  {
   "cell_type": "code",
   "execution_count": 13,
   "metadata": {
    "collapsed": true
   },
   "outputs": [],
   "source": [
    "cnn3 = Sequential([\n",
    "    Lambda(norm_input, input_shape=(28,28, 1)),\n",
    "    Conv2D(32, kernel_size=(3, 3), activation='relu', input_shape=input_shape),\n",
    "    BatchNormalization(),\n",
    "\n",
    "    Conv2D(32, kernel_size=(3, 3), activation='relu'),    \n",
    "    BatchNormalization(),\n",
    "    Dropout(0.25),\n",
    "\n",
    "    Conv2D(64, kernel_size=(3, 3), activation='relu'),    \n",
    "    MaxPooling2D(pool_size=(2, 2)),\n",
    "    Dropout(0.25),\n",
    "    \n",
    "    \n",
    "    Conv2D(128, kernel_size=(3, 3), activation='relu'),    \n",
    "    BatchNormalization(),\n",
    "    Dropout(0.25),\n",
    "\n",
    "    Flatten(),\n",
    "\n",
    "    Dense(512, activation='relu'),\n",
    "    BatchNormalization(),\n",
    "    Dropout(0.5),\n",
    "    Dense(128, activation='relu'),\n",
    "    BatchNormalization(),\n",
    "    Dropout(0.5),\n",
    "    Dense(10, activation='softmax')\n",
    "])"
   ]
  },
  {
   "cell_type": "code",
   "execution_count": 14,
   "metadata": {
    "collapsed": true
   },
   "outputs": [],
   "source": [
    "cnn3.compile(loss='sparse_categorical_crossentropy',\n",
    "              optimizer=Adam(lr=0.001),\n",
    "              metrics=['accuracy'])"
   ]
  },
  {
   "cell_type": "code",
   "execution_count": 15,
   "metadata": {
    "collapsed": false
   },
   "outputs": [
    {
     "name": "stdout",
     "output_type": "stream",
     "text": [
      "Train on 48000 samples, validate on 12000 samples\n",
      "Epoch 1/10\n",
      "48000/48000 [==============================] - 445s 9ms/step - loss: 0.7074 - acc: 0.7573 - val_loss: 0.4109 - val_acc: 0.8479\n",
      "Epoch 2/10\n",
      "48000/48000 [==============================] - 313s 7ms/step - loss: 0.4247 - acc: 0.8473 - val_loss: 0.3490 - val_acc: 0.8762\n",
      "Epoch 3/10\n",
      "48000/48000 [==============================] - 299s 6ms/step - loss: 0.3502 - acc: 0.8749 - val_loss: 0.2770 - val_acc: 0.9009\n",
      "Epoch 4/10\n",
      "48000/48000 [==============================] - 298s 6ms/step - loss: 0.3058 - acc: 0.8906 - val_loss: 0.2314 - val_acc: 0.9189\n",
      "Epoch 5/10\n",
      "48000/48000 [==============================] - 298s 6ms/step - loss: 0.2763 - acc: 0.9007 - val_loss: 0.2656 - val_acc: 0.9033\n",
      "Epoch 6/10\n",
      "48000/48000 [==============================] - 196s 4ms/step - loss: 0.2545 - acc: 0.9080 - val_loss: 0.2458 - val_acc: 0.9116\n",
      "Epoch 7/10\n",
      "48000/48000 [==============================] - 189s 4ms/step - loss: 0.2365 - acc: 0.9147 - val_loss: 0.2037 - val_acc: 0.9278\n",
      "Epoch 8/10\n",
      "48000/48000 [==============================] - 188s 4ms/step - loss: 0.2210 - acc: 0.9196 - val_loss: 0.2030 - val_acc: 0.9292\n",
      "Epoch 9/10\n",
      "48000/48000 [==============================] - 189s 4ms/step - loss: 0.2110 - acc: 0.9235 - val_loss: 0.2152 - val_acc: 0.9258\n",
      "Epoch 10/10\n",
      "48000/48000 [==============================] - 188s 4ms/step - loss: 0.2019 - acc: 0.9266 - val_loss: 0.1974 - val_acc: 0.9336\n"
     ]
    },
    {
     "data": {
      "text/plain": [
       "<keras.callbacks.History at 0x7f1c453607f0>"
      ]
     },
     "execution_count": 15,
     "metadata": {},
     "output_type": "execute_result"
    }
   ],
   "source": [
    "cnn3.fit(X_train, y_train,\n",
    "          batch_size=batch_size,\n",
    "          epochs=10,\n",
    "          verbose=1,\n",
    "          validation_data=(X_val, y_val))"
   ]
  },
  {
   "cell_type": "code",
   "execution_count": 16,
   "metadata": {
    "collapsed": true
   },
   "outputs": [],
   "source": [
    "cnn3.optimizer.lr = 0.0001"
   ]
  },
  {
   "cell_type": "code",
   "execution_count": 17,
   "metadata": {
    "collapsed": false
   },
   "outputs": [
    {
     "name": "stdout",
     "output_type": "stream",
     "text": [
      "Train on 48000 samples, validate on 12000 samples\n",
      "Epoch 1/10\n",
      "48000/48000 [==============================] - 188s 4ms/step - loss: 0.1900 - acc: 0.9308 - val_loss: 0.1931 - val_acc: 0.9318\n",
      "Epoch 2/10\n",
      "48000/48000 [==============================] - 200s 4ms/step - loss: 0.1797 - acc: 0.9346 - val_loss: 0.1876 - val_acc: 0.9363\n",
      "Epoch 3/10\n",
      "48000/48000 [==============================] - 330s 7ms/step - loss: 0.1680 - acc: 0.9391 - val_loss: 0.1984 - val_acc: 0.9325\n",
      "Epoch 4/10\n",
      "48000/48000 [==============================] - 328s 7ms/step - loss: 0.1597 - acc: 0.9424 - val_loss: 0.2009 - val_acc: 0.9332\n",
      "Epoch 5/10\n",
      "48000/48000 [==============================] - 327s 7ms/step - loss: 0.1519 - acc: 0.9440 - val_loss: 0.1958 - val_acc: 0.9368\n",
      "Epoch 6/10\n",
      "48000/48000 [==============================] - 328s 7ms/step - loss: 0.1454 - acc: 0.9477 - val_loss: 0.1925 - val_acc: 0.9357\n",
      "Epoch 7/10\n",
      "48000/48000 [==============================] - 329s 7ms/step - loss: 0.1396 - acc: 0.9498 - val_loss: 0.1965 - val_acc: 0.9336\n",
      "Epoch 8/10\n",
      "48000/48000 [==============================] - 328s 7ms/step - loss: 0.1344 - acc: 0.9507 - val_loss: 0.1986 - val_acc: 0.9331\n",
      "Epoch 9/10\n",
      "48000/48000 [==============================] - 329s 7ms/step - loss: 0.1260 - acc: 0.9542 - val_loss: 0.1889 - val_acc: 0.9340\n",
      "Epoch 10/10\n",
      "48000/48000 [==============================] - 327s 7ms/step - loss: 0.1171 - acc: 0.9563 - val_loss: 0.1864 - val_acc: 0.9413\n"
     ]
    },
    {
     "data": {
      "text/plain": [
       "<keras.callbacks.History at 0x7f1c1ae17128>"
      ]
     },
     "execution_count": 17,
     "metadata": {},
     "output_type": "execute_result"
    }
   ],
   "source": [
    "cnn3.fit(X_train, y_train,\n",
    "          batch_size=batch_size,\n",
    "          epochs=10,\n",
    "          verbose=1,\n",
    "          validation_data=(X_val, y_val))"
   ]
  },
  {
   "cell_type": "code",
   "execution_count": 18,
   "metadata": {
    "collapsed": false
   },
   "outputs": [
    {
     "name": "stdout",
     "output_type": "stream",
     "text": [
      "Test loss: 0.22021763806790112\n",
      "Test accuracy: 0.9303\n"
     ]
    }
   ],
   "source": [
    "score = cnn3.evaluate(X_test, y_test, verbose=0)\n",
    "print('Test loss:', score[0])\n",
    "print('Test accuracy:', score[1])"
   ]
  },
  {
   "cell_type": "code",
   "execution_count": 19,
   "metadata": {
    "collapsed": true
   },
   "outputs": [],
   "source": [
    "# Data Augmentation"
   ]
  },
  {
   "cell_type": "code",
   "execution_count": 20,
   "metadata": {
    "collapsed": true
   },
   "outputs": [],
   "source": [
    "gen = ImageDataGenerator(rotation_range=8, width_shift_range=0.08, shear_range=0.3,\n",
    "                               height_shift_range=0.08, zoom_range=0.08)\n",
    "batches = gen.flow(X_train, y_train, batch_size=batch_size)\n",
    "val_batches = gen.flow(X_val, y_val, batch_size=batch_size)\n"
   ]
  },
  {
   "cell_type": "code",
   "execution_count": 21,
   "metadata": {
    "collapsed": false
   },
   "outputs": [
    {
     "name": "stdout",
     "output_type": "stream",
     "text": [
      "Epoch 1/50\n",
      "93/93 [==============================] - 339s 4s/step - loss: 0.3993 - acc: 0.8632 - val_loss: 0.2945 - val_acc: 0.8947\n",
      "Epoch 2/50\n",
      "93/93 [==============================] - 327s 4s/step - loss: 0.3232 - acc: 0.8840 - val_loss: 0.2788 - val_acc: 0.9009\n",
      "Epoch 3/50\n",
      "93/93 [==============================] - 326s 4s/step - loss: 0.3049 - acc: 0.8894 - val_loss: 0.2768 - val_acc: 0.8986\n",
      "Epoch 4/50\n",
      "93/93 [==============================] - 328s 4s/step - loss: 0.2945 - acc: 0.8926 - val_loss: 0.2893 - val_acc: 0.8942\n",
      "Epoch 5/50\n",
      "93/93 [==============================] - 327s 4s/step - loss: 0.2841 - acc: 0.8989 - val_loss: 0.2510 - val_acc: 0.9108\n",
      "Epoch 6/50\n",
      "93/93 [==============================] - 328s 4s/step - loss: 0.2791 - acc: 0.8995 - val_loss: 0.2309 - val_acc: 0.9184\n",
      "Epoch 7/50\n",
      "93/93 [==============================] - 328s 4s/step - loss: 0.2667 - acc: 0.9037 - val_loss: 0.2294 - val_acc: 0.9183\n",
      "Epoch 8/50\n",
      "93/93 [==============================] - 329s 4s/step - loss: 0.2644 - acc: 0.9055 - val_loss: 0.2307 - val_acc: 0.9180\n",
      "Epoch 9/50\n",
      "93/93 [==============================] - 328s 4s/step - loss: 0.2636 - acc: 0.9044 - val_loss: 0.2391 - val_acc: 0.9105\n",
      "Epoch 10/50\n",
      "93/93 [==============================] - 331s 4s/step - loss: 0.2512 - acc: 0.9099 - val_loss: 0.2201 - val_acc: 0.9237\n",
      "Epoch 11/50\n",
      "93/93 [==============================] - 329s 4s/step - loss: 0.2520 - acc: 0.9097 - val_loss: 0.2322 - val_acc: 0.9152\n",
      "Epoch 12/50\n",
      "93/93 [==============================] - 324s 3s/step - loss: 0.2512 - acc: 0.9085 - val_loss: 0.2278 - val_acc: 0.9208\n",
      "Epoch 13/50\n",
      "93/93 [==============================] - 306s 3s/step - loss: 0.2467 - acc: 0.9111 - val_loss: 0.2127 - val_acc: 0.9230\n",
      "Epoch 14/50\n",
      "93/93 [==============================] - 187s 2s/step - loss: 0.2424 - acc: 0.9121 - val_loss: 0.2351 - val_acc: 0.9150\n",
      "Epoch 15/50\n",
      "93/93 [==============================] - 187s 2s/step - loss: 0.2367 - acc: 0.9134 - val_loss: 0.2135 - val_acc: 0.9235\n",
      "Epoch 16/50\n",
      "93/93 [==============================] - 202s 2s/step - loss: 0.2354 - acc: 0.9137 - val_loss: 0.2204 - val_acc: 0.9199\n",
      "Epoch 17/50\n",
      "93/93 [==============================] - 332s 4s/step - loss: 0.2325 - acc: 0.9157 - val_loss: 0.2343 - val_acc: 0.9168\n",
      "Epoch 18/50\n",
      "93/93 [==============================] - 326s 4s/step - loss: 0.2360 - acc: 0.9143 - val_loss: 0.2285 - val_acc: 0.9164\n",
      "Epoch 19/50\n",
      "93/93 [==============================] - 330s 4s/step - loss: 0.2316 - acc: 0.9153 - val_loss: 0.2098 - val_acc: 0.9276\n",
      "Epoch 20/50\n",
      "93/93 [==============================] - 247s 3s/step - loss: 0.2242 - acc: 0.9186 - val_loss: 0.2262 - val_acc: 0.9189\n",
      "Epoch 21/50\n",
      "93/93 [==============================] - 186s 2s/step - loss: 0.2307 - acc: 0.9161 - val_loss: 0.2145 - val_acc: 0.9261\n",
      "Epoch 22/50\n",
      "93/93 [==============================] - 187s 2s/step - loss: 0.2273 - acc: 0.9180 - val_loss: 0.2249 - val_acc: 0.9206\n",
      "Epoch 23/50\n",
      "93/93 [==============================] - 187s 2s/step - loss: 0.2225 - acc: 0.9195 - val_loss: 0.2201 - val_acc: 0.9223\n",
      "Epoch 24/50\n",
      "93/93 [==============================] - 188s 2s/step - loss: 0.2254 - acc: 0.9187 - val_loss: 0.2152 - val_acc: 0.9237\n",
      "Epoch 25/50\n",
      "93/93 [==============================] - 187s 2s/step - loss: 0.2158 - acc: 0.9226 - val_loss: 0.2182 - val_acc: 0.9220\n",
      "Epoch 26/50\n",
      "93/93 [==============================] - 187s 2s/step - loss: 0.2099 - acc: 0.9238 - val_loss: 0.2098 - val_acc: 0.9263\n",
      "Epoch 27/50\n",
      "93/93 [==============================] - 187s 2s/step - loss: 0.2162 - acc: 0.9204 - val_loss: 0.1940 - val_acc: 0.9312\n",
      "Epoch 28/50\n",
      "93/93 [==============================] - 188s 2s/step - loss: 0.2124 - acc: 0.9215 - val_loss: 0.2074 - val_acc: 0.9260\n",
      "Epoch 29/50\n",
      "93/93 [==============================] - 188s 2s/step - loss: 0.2121 - acc: 0.9233 - val_loss: 0.2115 - val_acc: 0.9226\n",
      "Epoch 30/50\n",
      "93/93 [==============================] - 189s 2s/step - loss: 0.2091 - acc: 0.9238 - val_loss: 0.2120 - val_acc: 0.9231\n",
      "Epoch 31/50\n",
      "93/93 [==============================] - 189s 2s/step - loss: 0.2055 - acc: 0.9260 - val_loss: 0.2096 - val_acc: 0.9239\n",
      "Epoch 32/50\n",
      "93/93 [==============================] - 187s 2s/step - loss: 0.2113 - acc: 0.9230 - val_loss: 0.2023 - val_acc: 0.9276\n",
      "Epoch 33/50\n",
      "93/93 [==============================] - 188s 2s/step - loss: 0.2001 - acc: 0.9276 - val_loss: 0.1984 - val_acc: 0.9295\n",
      "Epoch 34/50\n",
      "93/93 [==============================] - 187s 2s/step - loss: 0.2031 - acc: 0.9264 - val_loss: 0.1943 - val_acc: 0.9309\n",
      "Epoch 35/50\n",
      "93/93 [==============================] - 188s 2s/step - loss: 0.2037 - acc: 0.9261 - val_loss: 0.2228 - val_acc: 0.9224\n",
      "Epoch 36/50\n",
      "93/93 [==============================] - 188s 2s/step - loss: 0.2033 - acc: 0.9259 - val_loss: 0.2095 - val_acc: 0.9231\n",
      "Epoch 37/50\n",
      "93/93 [==============================] - 187s 2s/step - loss: 0.1968 - acc: 0.9276 - val_loss: 0.1942 - val_acc: 0.9295\n",
      "Epoch 38/50\n",
      "93/93 [==============================] - 189s 2s/step - loss: 0.1987 - acc: 0.9262 - val_loss: 0.2010 - val_acc: 0.9278\n",
      "Epoch 39/50\n",
      "93/93 [==============================] - 187s 2s/step - loss: 0.1940 - acc: 0.9296 - val_loss: 0.2151 - val_acc: 0.9254\n",
      "Epoch 40/50\n",
      "93/93 [==============================] - 189s 2s/step - loss: 0.1946 - acc: 0.9289 - val_loss: 0.1989 - val_acc: 0.9282\n",
      "Epoch 41/50\n",
      "93/93 [==============================] - 187s 2s/step - loss: 0.1916 - acc: 0.9306 - val_loss: 0.1957 - val_acc: 0.9306\n",
      "Epoch 42/50\n",
      "93/93 [==============================] - 189s 2s/step - loss: 0.1902 - acc: 0.9309 - val_loss: 0.1890 - val_acc: 0.9338\n",
      "Epoch 43/50\n",
      "93/93 [==============================] - 188s 2s/step - loss: 0.1919 - acc: 0.9307 - val_loss: 0.2016 - val_acc: 0.9293\n",
      "Epoch 44/50\n",
      "93/93 [==============================] - 188s 2s/step - loss: 0.1881 - acc: 0.9324 - val_loss: 0.1948 - val_acc: 0.9312\n",
      "Epoch 45/50\n",
      "93/93 [==============================] - 189s 2s/step - loss: 0.1870 - acc: 0.9313 - val_loss: 0.1999 - val_acc: 0.9266\n",
      "Epoch 46/50\n",
      "93/93 [==============================] - 189s 2s/step - loss: 0.1879 - acc: 0.9330 - val_loss: 0.1853 - val_acc: 0.9327\n",
      "Epoch 47/50\n",
      "93/93 [==============================] - 188s 2s/step - loss: 0.1876 - acc: 0.9307 - val_loss: 0.1860 - val_acc: 0.9328\n",
      "Epoch 48/50\n",
      "93/93 [==============================] - 189s 2s/step - loss: 0.1831 - acc: 0.9338 - val_loss: 0.1983 - val_acc: 0.9329\n",
      "Epoch 49/50\n",
      "93/93 [==============================] - 189s 2s/step - loss: 0.1853 - acc: 0.9328 - val_loss: 0.1870 - val_acc: 0.9346\n",
      "Epoch 50/50\n",
      "93/93 [==============================] - 188s 2s/step - loss: 0.1828 - acc: 0.9346 - val_loss: 0.1881 - val_acc: 0.9343\n"
     ]
    },
    {
     "data": {
      "text/plain": [
       "<keras.callbacks.History at 0x7f1c1ae17358>"
      ]
     },
     "execution_count": 21,
     "metadata": {},
     "output_type": "execute_result"
    }
   ],
   "source": [
    "cnn3.fit_generator(batches, steps_per_epoch=48000//batch_size, epochs=50,\n",
    "                    validation_data=val_batches, validation_steps=12000//batch_size, use_multiprocessing=True)\n"
   ]
  },
  {
   "cell_type": "code",
   "execution_count": 22,
   "metadata": {
    "collapsed": false
   },
   "outputs": [
    {
     "name": "stdout",
     "output_type": "stream",
     "text": [
      "Test loss: 0.18805894897729158\n",
      "Test accuracy: 0.9361\n"
     ]
    }
   ],
   "source": [
    "score = cnn3.evaluate(X_test, y_test, verbose=0)\n",
    "print('Test loss:', score[0])\n",
    "print('Test accuracy:', score[1])"
   ]
  },
  {
   "cell_type": "code",
   "execution_count": 23,
   "metadata": {
    "collapsed": false
   },
   "outputs": [
    {
     "name": "stdout",
     "output_type": "stream",
     "text": [
      "_________________________________________________________________\n",
      "Layer (type)                 Output Shape              Param #   \n",
      "=================================================================\n",
      "lambda_1 (Lambda)            (None, 28, 28, 1)         0         \n",
      "_________________________________________________________________\n",
      "conv2d_1 (Conv2D)            (None, 26, 26, 32)        320       \n",
      "_________________________________________________________________\n",
      "batch_normalization_1 (Batch (None, 26, 26, 32)        128       \n",
      "_________________________________________________________________\n",
      "conv2d_2 (Conv2D)            (None, 24, 24, 32)        9248      \n",
      "_________________________________________________________________\n",
      "batch_normalization_2 (Batch (None, 24, 24, 32)        128       \n",
      "_________________________________________________________________\n",
      "dropout_1 (Dropout)          (None, 24, 24, 32)        0         \n",
      "_________________________________________________________________\n",
      "conv2d_3 (Conv2D)            (None, 22, 22, 64)        18496     \n",
      "_________________________________________________________________\n",
      "max_pooling2d_1 (MaxPooling2 (None, 11, 11, 64)        0         \n",
      "_________________________________________________________________\n",
      "dropout_2 (Dropout)          (None, 11, 11, 64)        0         \n",
      "_________________________________________________________________\n",
      "conv2d_4 (Conv2D)            (None, 9, 9, 128)         73856     \n",
      "_________________________________________________________________\n",
      "batch_normalization_3 (Batch (None, 9, 9, 128)         512       \n",
      "_________________________________________________________________\n",
      "dropout_3 (Dropout)          (None, 9, 9, 128)         0         \n",
      "_________________________________________________________________\n",
      "flatten_1 (Flatten)          (None, 10368)             0         \n",
      "_________________________________________________________________\n",
      "dense_1 (Dense)              (None, 512)               5308928   \n",
      "_________________________________________________________________\n",
      "batch_normalization_4 (Batch (None, 512)               2048      \n",
      "_________________________________________________________________\n",
      "dropout_4 (Dropout)          (None, 512)               0         \n",
      "_________________________________________________________________\n",
      "dense_2 (Dense)              (None, 128)               65664     \n",
      "_________________________________________________________________\n",
      "batch_normalization_5 (Batch (None, 128)               512       \n",
      "_________________________________________________________________\n",
      "dropout_5 (Dropout)          (None, 128)               0         \n",
      "_________________________________________________________________\n",
      "dense_3 (Dense)              (None, 10)                1290      \n",
      "=================================================================\n",
      "Total params: 5,481,130\n",
      "Trainable params: 5,479,466\n",
      "Non-trainable params: 1,664\n",
      "_________________________________________________________________\n"
     ]
    }
   ],
   "source": [
    "cnn3.summary()"
   ]
  },
  {
   "cell_type": "code",
   "execution_count": null,
   "metadata": {
    "collapsed": true
   },
   "outputs": [],
   "source": []
  }
 ],
 "metadata": {
  "kernelspec": {
   "display_name": "Python 3",
   "language": "python",
   "name": "python3"
  },
  "language_info": {
   "codemirror_mode": {
    "name": "ipython",
    "version": 3
   },
   "file_extension": ".py",
   "mimetype": "text/x-python",
   "name": "python",
   "nbconvert_exporter": "python",
   "pygments_lexer": "ipython3",
   "version": "3.5.1"
  }
 },
 "nbformat": 4,
 "nbformat_minor": 2
}
