{
 "cells": [
  {
   "cell_type": "code",
   "execution_count": 1,
   "metadata": {
    "collapsed": true
   },
   "outputs": [],
   "source": [
    "# VGG Like Model"
   ]
  },
  {
   "cell_type": "code",
   "execution_count": 2,
   "metadata": {
    "collapsed": false
   },
   "outputs": [
    {
     "name": "stderr",
     "output_type": "stream",
     "text": [
      "/home/pdeepsingh91/anaconda3/lib/python3.5/site-packages/h5py/__init__.py:36: FutureWarning: Conversion of the second argument of issubdtype from `float` to `np.floating` is deprecated. In future, it will be treated as `np.float64 == np.dtype(float).type`.\n",
      "  from ._conv import register_converters as _register_converters\n",
      "Using TensorFlow backend.\n"
     ]
    }
   ],
   "source": [
    "import keras\n",
    "from keras.datasets import mnist\n",
    "from keras.models import Sequential\n",
    "from keras.layers import Dense, Dropout, Flatten, Lambda\n",
    "from keras.layers import Conv2D, MaxPooling2D, BatchNormalization\n",
    "from keras.optimizers import Adam\n",
    "#import matplotlib.pyplot as plt\n",
    "#import matplotlib.image as mpimg\n",
    "from keras.preprocessing.image import ImageDataGenerator\n",
    "import numpy as np\n",
    "import pandas as pd\n",
    "np.random.seed(12345)\n",
    "#%matplotlib inline"
   ]
  },
  {
   "cell_type": "code",
   "execution_count": 3,
   "metadata": {
    "collapsed": true
   },
   "outputs": [],
   "source": [
    "train_images_path = keras.utils.get_file('train-images-idx3-ubyte.gz', 'https://raw.githubusercontent.com/zalandoresearch/fashion-mnist/master/data/fashion/train-images-idx3-ubyte.gz')\n",
    "train_labels_path = keras.utils.get_file('train-labels-idx1-ubyte.gz', 'https://raw.githubusercontent.com/zalandoresearch/fashion-mnist/master/data/fashion/train-labels-idx1-ubyte.gz')\n",
    "test_images_path = keras.utils.get_file('t10k-images-idx3-ubyte.gz', 'https://raw.githubusercontent.com/zalandoresearch/fashion-mnist/master/data/fashion/t10k-images-idx3-ubyte.gz')\n",
    "test_labels_path = keras.utils.get_file('t10k-labels-idx1-ubyte.gz', 'https://raw.githubusercontent.com/zalandoresearch/fashion-mnist/master/data/fashion/t10k-labels-idx1-ubyte.gz')\n"
   ]
  },
  {
   "cell_type": "code",
   "execution_count": 4,
   "metadata": {
    "collapsed": true
   },
   "outputs": [],
   "source": [
    "batch_size = 512"
   ]
  },
  {
   "cell_type": "code",
   "execution_count": 5,
   "metadata": {
    "collapsed": true
   },
   "outputs": [],
   "source": [
    "def load_mnist(images_path, labels_path):\n",
    "    import os\n",
    "    import gzip\n",
    "    import numpy as np\n",
    "\n",
    "    with gzip.open(labels_path, 'rb') as lbpath:\n",
    "        labels = np.frombuffer(lbpath.read(), dtype=np.uint8,\n",
    "                               offset=8)\n",
    "\n",
    "    with gzip.open(images_path, 'rb') as imgpath:\n",
    "        images = np.frombuffer(imgpath.read(), dtype=np.uint8,\n",
    "                               offset=16).reshape(len(labels), 784)\n",
    "\n",
    "    return images, labels"
   ]
  },
  {
   "cell_type": "code",
   "execution_count": 6,
   "metadata": {
    "collapsed": true
   },
   "outputs": [],
   "source": [
    "X_train_orig, y_train_orig = load_mnist(train_images_path, train_labels_path)\n",
    "X_test, y_test = load_mnist(test_images_path, test_labels_path)\n",
    "X_train_orig = X_train_orig.astype('float32')\n",
    "X_test = X_test.astype('float32')\n",
    "X_train_orig /= 255\n",
    "X_test /= 255"
   ]
  },
  {
   "cell_type": "code",
   "execution_count": 7,
   "metadata": {
    "collapsed": false
   },
   "outputs": [
    {
     "name": "stdout",
     "output_type": "stream",
     "text": [
      "(60000, 784)\n",
      "(60000,)\n",
      "(10000, 784)\n",
      "(10000,)\n"
     ]
    }
   ],
   "source": [
    "print(X_train_orig.shape)\n",
    "print(y_train_orig.shape)\n",
    "print(X_test.shape)\n",
    "print(y_test.shape)"
   ]
  },
  {
   "cell_type": "code",
   "execution_count": 8,
   "metadata": {
    "collapsed": true
   },
   "outputs": [],
   "source": [
    "from sklearn.model_selection import train_test_split\n",
    "X_train, X_val, y_train, y_val = train_test_split(X_train_orig, y_train_orig, test_size=0.2, random_state=12345)"
   ]
  },
  {
   "cell_type": "code",
   "execution_count": 9,
   "metadata": {
    "collapsed": false
   },
   "outputs": [
    {
     "name": "stdout",
     "output_type": "stream",
     "text": [
      "(48000, 784)\n",
      "(48000,)\n",
      "(12000, 784)\n",
      "(12000,)\n"
     ]
    }
   ],
   "source": [
    "print(X_train.shape)\n",
    "print(y_train.shape)\n",
    "print(X_val.shape)\n",
    "print(y_val.shape)"
   ]
  },
  {
   "cell_type": "code",
   "execution_count": 10,
   "metadata": {
    "collapsed": false
   },
   "outputs": [],
   "source": [
    "#plt.imshow(X_train[1, :].reshape((28, 28)))"
   ]
  },
  {
   "cell_type": "code",
   "execution_count": 11,
   "metadata": {
    "collapsed": true
   },
   "outputs": [],
   "source": [
    "img_rows = 28\n",
    "img_cols = 28\n",
    "input_shape = (img_rows, img_cols, 1)\n",
    "X_train = X_train.reshape(X_train.shape[0], img_rows, img_cols, 1)\n",
    "X_test = X_test.reshape(X_test.shape[0], img_rows, img_cols, 1)\n",
    "X_val = X_val.reshape(X_val.shape[0], img_rows, img_cols, 1)"
   ]
  },
  {
   "cell_type": "code",
   "execution_count": 12,
   "metadata": {
    "collapsed": true
   },
   "outputs": [],
   "source": [
    "mean_px = X_train.mean().astype(np.float32)\n",
    "std_px = X_train.std().astype(np.float32)\n",
    "def norm_input(x): return (x-mean_px)/std_px"
   ]
  },
  {
   "cell_type": "code",
   "execution_count": 13,
   "metadata": {
    "collapsed": true
   },
   "outputs": [],
   "source": [
    "cnn4 = Sequential([\n",
    "    Lambda(norm_input, input_shape=(28,28, 1)),\n",
    "    Conv2D(32, kernel_size=(3, 3), activation='relu', padding='same', input_shape=input_shape),\n",
    "    Conv2D(32, kernel_size=(3, 3), activation='relu', padding='same'),\n",
    "    MaxPooling2D(pool_size=(2, 2)),\n",
    "\n",
    "\n",
    "    Conv2D(64, kernel_size=(3, 3), activation='relu', padding='same'),\n",
    "    Conv2D(64, kernel_size=(3, 3), activation='relu', padding='same'),\n",
    "    MaxPooling2D(pool_size=(2, 2)),\n",
    "\n",
    "\n",
    "    Conv2D(128, kernel_size=(3, 3), activation='relu', padding='same'),\n",
    "    Conv2D(128, kernel_size=(3, 3), activation='relu', padding='same'),\n",
    "    MaxPooling2D(pool_size=(2, 2)),\n",
    "\n",
    "\n",
    "    Conv2D(256, kernel_size=(3, 3), activation='relu', padding='same'),\n",
    "    Conv2D(256, kernel_size=(3, 3), activation='relu', padding='same'),\n",
    "    Conv2D(256, kernel_size=(3, 3), activation='relu', padding='same'),\n",
    "    MaxPooling2D(pool_size=(2, 2)),\n",
    "\n",
    "    Flatten(),\n",
    "\n",
    "    Dense(512, activation='relu'),\n",
    "    Dropout(0.5),\n",
    "    Dense(512, activation='relu'),\n",
    "    Dropout(0.5),\n",
    "    Dense(10, activation='softmax')])"
   ]
  },
  {
   "cell_type": "code",
   "execution_count": 14,
   "metadata": {
    "collapsed": true
   },
   "outputs": [],
   "source": [
    "cnn4.compile(loss='sparse_categorical_crossentropy',\n",
    "              optimizer=Adam(lr=0.001),\n",
    "              metrics=['accuracy'])"
   ]
  },
  {
   "cell_type": "code",
   "execution_count": 20,
   "metadata": {
    "collapsed": false
   },
   "outputs": [
    {
     "name": "stdout",
     "output_type": "stream",
     "text": [
      "Train on 48000 samples, validate on 12000 samples\n",
      "Epoch 1/10\n",
      "48000/48000 [==============================] - 333s 7ms/step - loss: 1.1948 - acc: 0.5359 - val_loss: 0.6064 - val_acc: 0.7661\n",
      "Epoch 2/10\n",
      "48000/48000 [==============================] - 329s 7ms/step - loss: 0.5193 - acc: 0.8076 - val_loss: 0.3892 - val_acc: 0.8524\n",
      "Epoch 3/10\n",
      "48000/48000 [==============================] - 327s 7ms/step - loss: 0.3910 - acc: 0.8591 - val_loss: 0.3851 - val_acc: 0.8639\n",
      "Epoch 4/10\n",
      "48000/48000 [==============================] - 328s 7ms/step - loss: 0.3275 - acc: 0.8832 - val_loss: 0.2750 - val_acc: 0.9040\n",
      "Epoch 5/10\n",
      "48000/48000 [==============================] - 330s 7ms/step - loss: 0.2841 - acc: 0.8987 - val_loss: 0.2660 - val_acc: 0.9030\n",
      "Epoch 6/10\n",
      "48000/48000 [==============================] - 331s 7ms/step - loss: 0.2609 - acc: 0.9064 - val_loss: 0.2437 - val_acc: 0.9128\n",
      "Epoch 7/10\n",
      "48000/48000 [==============================] - 330s 7ms/step - loss: 0.2258 - acc: 0.9192 - val_loss: 0.2557 - val_acc: 0.9089\n",
      "Epoch 8/10\n",
      "48000/48000 [==============================] - 327s 7ms/step - loss: 0.2062 - acc: 0.9259 - val_loss: 0.2279 - val_acc: 0.9165\n",
      "Epoch 9/10\n",
      "48000/48000 [==============================] - 316s 7ms/step - loss: 0.1919 - acc: 0.9307 - val_loss: 0.2103 - val_acc: 0.9226\n",
      "Epoch 10/10\n",
      "48000/48000 [==============================] - 327s 7ms/step - loss: 0.1746 - acc: 0.9370 - val_loss: 0.2117 - val_acc: 0.9259\n"
     ]
    },
    {
     "data": {
      "text/plain": [
       "<keras.callbacks.History at 0x7fd1fe1b67f0>"
      ]
     },
     "execution_count": 20,
     "metadata": {},
     "output_type": "execute_result"
    }
   ],
   "source": [
    "cnn4.fit(X_train, y_train,\n",
    "          batch_size=batch_size,\n",
    "          epochs=10,\n",
    "          verbose=1,\n",
    "          validation_data=(X_val, y_val))"
   ]
  },
  {
   "cell_type": "code",
   "execution_count": 21,
   "metadata": {
    "collapsed": true
   },
   "outputs": [],
   "source": [
    "cnn4.optimizer.lr = 0.0001\n"
   ]
  },
  {
   "cell_type": "code",
   "execution_count": 22,
   "metadata": {
    "collapsed": false
   },
   "outputs": [
    {
     "name": "stdout",
     "output_type": "stream",
     "text": [
      "Train on 48000 samples, validate on 12000 samples\n",
      "Epoch 1/10\n",
      "48000/48000 [==============================] - 329s 7ms/step - loss: 0.1607 - acc: 0.9426 - val_loss: 0.2254 - val_acc: 0.9240\n",
      "Epoch 2/10\n",
      "48000/48000 [==============================] - 328s 7ms/step - loss: 0.1474 - acc: 0.9479 - val_loss: 0.2151 - val_acc: 0.9241\n",
      "Epoch 3/10\n",
      "48000/48000 [==============================] - 329s 7ms/step - loss: 0.1343 - acc: 0.9524 - val_loss: 0.2210 - val_acc: 0.9273\n",
      "Epoch 4/10\n",
      "48000/48000 [==============================] - 329s 7ms/step - loss: 0.1225 - acc: 0.9560 - val_loss: 0.2254 - val_acc: 0.9264\n",
      "Epoch 5/10\n",
      "48000/48000 [==============================] - 330s 7ms/step - loss: 0.1086 - acc: 0.9621 - val_loss: 0.2279 - val_acc: 0.9285\n",
      "Epoch 6/10\n",
      "48000/48000 [==============================] - 331s 7ms/step - loss: 0.1000 - acc: 0.9648 - val_loss: 0.2638 - val_acc: 0.9262\n",
      "Epoch 7/10\n",
      "48000/48000 [==============================] - 330s 7ms/step - loss: 0.1015 - acc: 0.9642 - val_loss: 0.2462 - val_acc: 0.9263\n",
      "Epoch 8/10\n",
      "48000/48000 [==============================] - 329s 7ms/step - loss: 0.0849 - acc: 0.9696 - val_loss: 0.2417 - val_acc: 0.9289\n",
      "Epoch 9/10\n",
      "48000/48000 [==============================] - 328s 7ms/step - loss: 0.0808 - acc: 0.9718 - val_loss: 0.2576 - val_acc: 0.9296\n",
      "Epoch 10/10\n",
      "48000/48000 [==============================] - 330s 7ms/step - loss: 0.0578 - acc: 0.9799 - val_loss: 0.3061 - val_acc: 0.9237\n"
     ]
    },
    {
     "data": {
      "text/plain": [
       "<keras.callbacks.History at 0x7fd1f5ae3668>"
      ]
     },
     "execution_count": 22,
     "metadata": {},
     "output_type": "execute_result"
    }
   ],
   "source": [
    "cnn4.fit(X_train, y_train,\n",
    "          batch_size=batch_size,\n",
    "          epochs=10,\n",
    "          verbose=1,\n",
    "          validation_data=(X_val, y_val))"
   ]
  },
  {
   "cell_type": "code",
   "execution_count": 23,
   "metadata": {
    "collapsed": false
   },
   "outputs": [
    {
     "name": "stdout",
     "output_type": "stream",
     "text": [
      "Test loss: 0.33761082627288996\n",
      "Test accuracy: 0.9185\n"
     ]
    }
   ],
   "source": [
    "score = cnn4.evaluate(X_test, y_test, verbose=0)\n",
    "print('Test loss:', score[0])\n",
    "print('Test accuracy:', score[1])"
   ]
  },
  {
   "cell_type": "code",
   "execution_count": 15,
   "metadata": {
    "collapsed": true
   },
   "outputs": [],
   "source": [
    "## Data Augmentation"
   ]
  },
  {
   "cell_type": "code",
   "execution_count": 16,
   "metadata": {
    "collapsed": false
   },
   "outputs": [],
   "source": [
    "gen = ImageDataGenerator(rotation_range=8, width_shift_range=0.08, shear_range=0.3,\n",
    "                               height_shift_range=0.08, zoom_range=0.08)\n",
    "batches = gen.flow(X_train, y_train, batch_size=batch_size)\n",
    "val_batches = gen.flow(X_val, y_val, batch_size=batch_size)"
   ]
  },
  {
   "cell_type": "code",
   "execution_count": 17,
   "metadata": {
    "collapsed": false
   },
   "outputs": [
    {
     "name": "stdout",
     "output_type": "stream",
     "text": [
      "Epoch 1/50\n",
      "93/93 [==============================] - 188s 2s/step - loss: 1.3029 - acc: 0.5049 - val_loss: 0.6583 - val_acc: 0.7386\n",
      "Epoch 2/50\n",
      "93/93 [==============================] - 184s 2s/step - loss: 0.6386 - acc: 0.7574 - val_loss: 0.5497 - val_acc: 0.7877\n",
      "Epoch 3/50\n",
      "93/93 [==============================] - 187s 2s/step - loss: 0.5300 - acc: 0.7965 - val_loss: 0.4300 - val_acc: 0.8327\n",
      "Epoch 4/50\n",
      "93/93 [==============================] - 187s 2s/step - loss: 0.4672 - acc: 0.8231 - val_loss: 0.4123 - val_acc: 0.8404\n",
      "Epoch 5/50\n",
      "93/93 [==============================] - 185s 2s/step - loss: 0.4189 - acc: 0.8434 - val_loss: 0.3617 - val_acc: 0.8639\n",
      "Epoch 6/50\n",
      "93/93 [==============================] - 186s 2s/step - loss: 0.3821 - acc: 0.8586 - val_loss: 0.3370 - val_acc: 0.8756\n",
      "Epoch 7/50\n",
      "93/93 [==============================] - 186s 2s/step - loss: 0.3618 - acc: 0.8667 - val_loss: 0.3230 - val_acc: 0.8806\n",
      "Epoch 8/50\n",
      "93/93 [==============================] - 185s 2s/step - loss: 0.3347 - acc: 0.8764 - val_loss: 0.2938 - val_acc: 0.8924\n",
      "Epoch 9/50\n",
      "93/93 [==============================] - 185s 2s/step - loss: 0.3198 - acc: 0.8835 - val_loss: 0.2943 - val_acc: 0.8923\n",
      "Epoch 10/50\n",
      "93/93 [==============================] - 186s 2s/step - loss: 0.3055 - acc: 0.8901 - val_loss: 0.2888 - val_acc: 0.8917\n",
      "Epoch 11/50\n",
      "93/93 [==============================] - 185s 2s/step - loss: 0.3028 - acc: 0.8901 - val_loss: 0.2766 - val_acc: 0.8968\n",
      "Epoch 12/50\n",
      "93/93 [==============================] - 184s 2s/step - loss: 0.2853 - acc: 0.8960 - val_loss: 0.2761 - val_acc: 0.8991\n",
      "Epoch 13/50\n",
      "93/93 [==============================] - 185s 2s/step - loss: 0.2728 - acc: 0.9003 - val_loss: 0.2585 - val_acc: 0.9051\n",
      "Epoch 14/50\n",
      "93/93 [==============================] - 185s 2s/step - loss: 0.2635 - acc: 0.9036 - val_loss: 0.2631 - val_acc: 0.9036\n",
      "Epoch 15/50\n",
      "93/93 [==============================] - 185s 2s/step - loss: 0.2632 - acc: 0.9028 - val_loss: 0.2534 - val_acc: 0.9090\n",
      "Epoch 16/50\n",
      "93/93 [==============================] - 185s 2s/step - loss: 0.2482 - acc: 0.9102 - val_loss: 0.2602 - val_acc: 0.9040\n",
      "Epoch 17/50\n",
      "93/93 [==============================] - 184s 2s/step - loss: 0.2456 - acc: 0.9103 - val_loss: 0.2589 - val_acc: 0.9083\n",
      "Epoch 18/50\n",
      "93/93 [==============================] - 186s 2s/step - loss: 0.2441 - acc: 0.9104 - val_loss: 0.2317 - val_acc: 0.9145\n",
      "Epoch 19/50\n",
      "93/93 [==============================] - 186s 2s/step - loss: 0.2358 - acc: 0.9131 - val_loss: 0.2339 - val_acc: 0.9114\n",
      "Epoch 20/50\n",
      "93/93 [==============================] - 186s 2s/step - loss: 0.2276 - acc: 0.9160 - val_loss: 0.2283 - val_acc: 0.9171\n",
      "Epoch 21/50\n",
      "93/93 [==============================] - 185s 2s/step - loss: 0.2170 - acc: 0.9198 - val_loss: 0.2213 - val_acc: 0.9188\n",
      "Epoch 22/50\n",
      "93/93 [==============================] - 186s 2s/step - loss: 0.2242 - acc: 0.9191 - val_loss: 0.2365 - val_acc: 0.9120\n",
      "Epoch 23/50\n",
      "93/93 [==============================] - 186s 2s/step - loss: 0.2191 - acc: 0.9208 - val_loss: 0.2263 - val_acc: 0.9173\n",
      "Epoch 24/50\n",
      "93/93 [==============================] - 186s 2s/step - loss: 0.2127 - acc: 0.9220 - val_loss: 0.2267 - val_acc: 0.9167\n",
      "Epoch 25/50\n",
      "93/93 [==============================] - 185s 2s/step - loss: 0.2108 - acc: 0.9234 - val_loss: 0.2374 - val_acc: 0.9161\n",
      "Epoch 26/50\n",
      "93/93 [==============================] - 186s 2s/step - loss: 0.2055 - acc: 0.9250 - val_loss: 0.2291 - val_acc: 0.9205\n",
      "Epoch 27/50\n",
      "93/93 [==============================] - 186s 2s/step - loss: 0.2019 - acc: 0.9259 - val_loss: 0.2205 - val_acc: 0.9209\n",
      "Epoch 28/50\n",
      "93/93 [==============================] - 186s 2s/step - loss: 0.1959 - acc: 0.9286 - val_loss: 0.2161 - val_acc: 0.9240\n",
      "Epoch 29/50\n",
      "93/93 [==============================] - 185s 2s/step - loss: 0.1969 - acc: 0.9303 - val_loss: 0.2260 - val_acc: 0.9220\n",
      "Epoch 30/50\n",
      "93/93 [==============================] - 186s 2s/step - loss: 0.1925 - acc: 0.9288 - val_loss: 0.2218 - val_acc: 0.9223\n",
      "Epoch 31/50\n",
      "93/93 [==============================] - 185s 2s/step - loss: 0.1825 - acc: 0.9330 - val_loss: 0.2144 - val_acc: 0.9235\n",
      "Epoch 32/50\n",
      "93/93 [==============================] - 185s 2s/step - loss: 0.1758 - acc: 0.9343 - val_loss: 0.2185 - val_acc: 0.9258\n",
      "Epoch 33/50\n",
      "93/93 [==============================] - 185s 2s/step - loss: 0.1831 - acc: 0.9331 - val_loss: 0.2221 - val_acc: 0.9207\n",
      "Epoch 34/50\n",
      "93/93 [==============================] - 186s 2s/step - loss: 0.1801 - acc: 0.9352 - val_loss: 0.2107 - val_acc: 0.9275\n",
      "Epoch 35/50\n",
      "93/93 [==============================] - 185s 2s/step - loss: 0.1742 - acc: 0.9366 - val_loss: 0.2106 - val_acc: 0.9261\n",
      "Epoch 36/50\n",
      "93/93 [==============================] - 187s 2s/step - loss: 0.1709 - acc: 0.9385 - val_loss: 0.2207 - val_acc: 0.9238\n",
      "Epoch 37/50\n",
      "93/93 [==============================] - 186s 2s/step - loss: 0.1710 - acc: 0.9368 - val_loss: 0.2154 - val_acc: 0.9239\n",
      "Epoch 38/50\n",
      "93/93 [==============================] - 186s 2s/step - loss: 0.1675 - acc: 0.9385 - val_loss: 0.2225 - val_acc: 0.9262\n",
      "Epoch 39/50\n",
      "93/93 [==============================] - 185s 2s/step - loss: 0.1662 - acc: 0.9395 - val_loss: 0.2077 - val_acc: 0.9296\n",
      "Epoch 40/50\n",
      "93/93 [==============================] - 185s 2s/step - loss: 0.1634 - acc: 0.9404 - val_loss: 0.2122 - val_acc: 0.9302\n",
      "Epoch 41/50\n",
      "93/93 [==============================] - 185s 2s/step - loss: 0.1633 - acc: 0.9406 - val_loss: 0.2263 - val_acc: 0.9246\n",
      "Epoch 42/50\n",
      "93/93 [==============================] - 185s 2s/step - loss: 0.1643 - acc: 0.9408 - val_loss: 0.2268 - val_acc: 0.9220\n",
      "Epoch 43/50\n",
      "93/93 [==============================] - 185s 2s/step - loss: 0.1593 - acc: 0.9411 - val_loss: 0.2288 - val_acc: 0.9255\n",
      "Epoch 44/50\n",
      "93/93 [==============================] - 185s 2s/step - loss: 0.1546 - acc: 0.9436 - val_loss: 0.2270 - val_acc: 0.9259\n",
      "Epoch 45/50\n",
      "93/93 [==============================] - 186s 2s/step - loss: 0.1477 - acc: 0.9460 - val_loss: 0.2062 - val_acc: 0.9293\n",
      "Epoch 46/50\n",
      "93/93 [==============================] - 185s 2s/step - loss: 0.1470 - acc: 0.9459 - val_loss: 0.2212 - val_acc: 0.9284\n",
      "Epoch 47/50\n",
      "93/93 [==============================] - 187s 2s/step - loss: 0.1526 - acc: 0.9448 - val_loss: 0.2184 - val_acc: 0.9276\n",
      "Epoch 48/50\n",
      "93/93 [==============================] - 187s 2s/step - loss: 0.1469 - acc: 0.9459 - val_loss: 0.2157 - val_acc: 0.9294\n",
      "Epoch 49/50\n",
      "93/93 [==============================] - 185s 2s/step - loss: 0.1411 - acc: 0.9485 - val_loss: 0.2246 - val_acc: 0.9263\n",
      "Epoch 50/50\n",
      "93/93 [==============================] - 185s 2s/step - loss: 0.1413 - acc: 0.9498 - val_loss: 0.2170 - val_acc: 0.9265\n"
     ]
    },
    {
     "data": {
      "text/plain": [
       "<keras.callbacks.History at 0x7f09308b2080>"
      ]
     },
     "execution_count": 17,
     "metadata": {},
     "output_type": "execute_result"
    }
   ],
   "source": [
    "cnn4.fit_generator(batches, steps_per_epoch=48000//batch_size, epochs=50,\n",
    "                    validation_data=val_batches, validation_steps=12000//batch_size, use_multiprocessing=True)"
   ]
  },
  {
   "cell_type": "code",
   "execution_count": 18,
   "metadata": {
    "collapsed": false
   },
   "outputs": [
    {
     "name": "stdout",
     "output_type": "stream",
     "text": [
      "Test loss: 0.22989615490138532\n",
      "Test accuracy: 0.9268\n"
     ]
    }
   ],
   "source": [
    "score = cnn4.evaluate(X_test, y_test, verbose=0)\n",
    "print('Test loss:', score[0])\n",
    "print('Test accuracy:', score[1])"
   ]
  },
  {
   "cell_type": "code",
   "execution_count": null,
   "metadata": {
    "collapsed": true
   },
   "outputs": [],
   "source": []
  }
 ],
 "metadata": {
  "kernelspec": {
   "display_name": "Python 3",
   "language": "python",
   "name": "python3"
  },
  "language_info": {
   "codemirror_mode": {
    "name": "ipython",
    "version": 3
   },
   "file_extension": ".py",
   "mimetype": "text/x-python",
   "name": "python",
   "nbconvert_exporter": "python",
   "pygments_lexer": "ipython3",
   "version": "3.5.1"
  }
 },
 "nbformat": 4,
 "nbformat_minor": 2
}
