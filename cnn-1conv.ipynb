{
 "cells": [
  {
   "cell_type": "code",
   "execution_count": 4,
   "metadata": {
    "collapsed": true
   },
   "outputs": [],
   "source": [
    "# CNN with 1 Convolutional Layer"
   ]
  },
  {
   "cell_type": "code",
   "execution_count": 5,
   "metadata": {
    "collapsed": false
   },
   "outputs": [
    {
     "name": "stderr",
     "output_type": "stream",
     "text": [
      "Using TensorFlow backend.\n"
     ]
    }
   ],
   "source": [
    "import keras\n",
    "from keras.datasets import mnist\n",
    "from keras.models import Sequential\n",
    "from keras.layers import Dense, Dropout, Flatten, Lambda\n",
    "from keras.layers import Conv2D, MaxPooling2D, BatchNormalization\n",
    "from keras.optimizers import Adam\n",
    "#import matplotlib.pyplot as plt\n",
    "#import matplotlib.image as mpimg\n",
    "from keras.preprocessing.image import ImageDataGenerator\n",
    "import numpy as np\n",
    "#import pandas as pd\n",
    "np.random.seed(12345)\n",
    "#%matplotlib inline\n"
   ]
  },
  {
   "cell_type": "code",
   "execution_count": 6,
   "metadata": {
    "collapsed": true
   },
   "outputs": [],
   "source": [
    "batch_size = 512\n",
    "\n",
    "train_images_path = keras.utils.get_file('train-images-idx3-ubyte.gz', 'https://raw.githubusercontent.com/zalandoresearch/fashion-mnist/master/data/fashion/train-images-idx3-ubyte.gz')\n",
    "train_labels_path = keras.utils.get_file('train-labels-idx1-ubyte.gz', 'https://raw.githubusercontent.com/zalandoresearch/fashion-mnist/master/data/fashion/train-labels-idx1-ubyte.gz')\n",
    "test_images_path = keras.utils.get_file('t10k-images-idx3-ubyte.gz', 'https://raw.githubusercontent.com/zalandoresearch/fashion-mnist/master/data/fashion/t10k-images-idx3-ubyte.gz')\n",
    "test_labels_path = keras.utils.get_file('t10k-labels-idx1-ubyte.gz', 'https://raw.githubusercontent.com/zalandoresearch/fashion-mnist/master/data/fashion/t10k-labels-idx1-ubyte.gz')\n"
   ]
  },
  {
   "cell_type": "code",
   "execution_count": 7,
   "metadata": {
    "collapsed": true
   },
   "outputs": [],
   "source": [
    "def load_mnist(images_path, labels_path):\n",
    "    import os\n",
    "    import gzip\n",
    "    import numpy as np\n",
    "\n",
    "    with gzip.open(labels_path, 'rb') as lbpath:\n",
    "        labels = np.frombuffer(lbpath.read(), dtype=np.uint8,\n",
    "                               offset=8)\n",
    "\n",
    "    with gzip.open(images_path, 'rb') as imgpath:\n",
    "        images = np.frombuffer(imgpath.read(), dtype=np.uint8,\n",
    "                               offset=16).reshape(len(labels), 784)\n",
    "\n",
    "    return images, labels"
   ]
  },
  {
   "cell_type": "code",
   "execution_count": 8,
   "metadata": {
    "collapsed": true
   },
   "outputs": [],
   "source": [
    "X_train_orig, y_train_orig = load_mnist(train_images_path, train_labels_path)\n",
    "X_test, y_test = load_mnist(test_images_path, test_labels_path)\n",
    "X_train_orig = X_train_orig.astype('float32')\n",
    "X_test = X_test.astype('float32')\n",
    "X_train_orig /= 255\n",
    "X_test /= 255"
   ]
  },
  {
   "cell_type": "code",
   "execution_count": 9,
   "metadata": {
    "collapsed": false
   },
   "outputs": [
    {
     "name": "stdout",
     "output_type": "stream",
     "text": [
      "(60000, 784)\n",
      "(60000,)\n",
      "(10000, 784)\n",
      "(10000,)\n"
     ]
    }
   ],
   "source": [
    "print(X_train_orig.shape)\n",
    "print(y_train_orig.shape)\n",
    "print(X_test.shape)\n",
    "print(y_test.shape)\n"
   ]
  },
  {
   "cell_type": "code",
   "execution_count": 10,
   "metadata": {
    "collapsed": true
   },
   "outputs": [],
   "source": [
    "from sklearn.model_selection import train_test_split\n",
    "X_train, X_val, y_train, y_val = train_test_split(X_train_orig, y_train_orig, test_size=0.2, random_state=12345)"
   ]
  },
  {
   "cell_type": "code",
   "execution_count": 11,
   "metadata": {
    "collapsed": false
   },
   "outputs": [
    {
     "name": "stdout",
     "output_type": "stream",
     "text": [
      "(48000, 784)\n",
      "(48000,)\n",
      "(12000, 784)\n",
      "(12000,)\n"
     ]
    }
   ],
   "source": [
    "print(X_train.shape)\n",
    "print(y_train.shape)\n",
    "print(X_val.shape)\n",
    "print(y_val.shape)\n"
   ]
  },
  {
   "cell_type": "code",
   "execution_count": 12,
   "metadata": {
    "collapsed": false
   },
   "outputs": [],
   "source": [
    "#plt.imshow(X_train[1, :].reshape((28, 28)))\n"
   ]
  },
  {
   "cell_type": "code",
   "execution_count": 13,
   "metadata": {
    "collapsed": true
   },
   "outputs": [],
   "source": [
    "# CNN with 1 Convolutional Layer"
   ]
  },
  {
   "cell_type": "code",
   "execution_count": 14,
   "metadata": {
    "collapsed": true
   },
   "outputs": [],
   "source": [
    "img_rows = 28\n",
    "img_cols = 28\n",
    "input_shape = (img_rows, img_cols, 1)\n",
    "X_train = X_train.reshape(X_train.shape[0], img_rows, img_cols, 1)\n",
    "X_test = X_test.reshape(X_test.shape[0], img_rows, img_cols, 1)\n",
    "X_val = X_val.reshape(X_val.shape[0], img_rows, img_cols, 1)\n"
   ]
  },
  {
   "cell_type": "code",
   "execution_count": 15,
   "metadata": {
    "collapsed": true
   },
   "outputs": [],
   "source": [
    "cnn1 = Sequential([\n",
    "    Conv2D(32, kernel_size=(3, 3), activation='relu', input_shape=input_shape),\n",
    "    MaxPooling2D(pool_size=(2, 2)),\n",
    "    Dropout(0.2),\n",
    "    Flatten(),\n",
    "    Dense(128, activation='relu'),\n",
    "    Dense(10, activation='softmax')])"
   ]
  },
  {
   "cell_type": "code",
   "execution_count": 16,
   "metadata": {
    "collapsed": true
   },
   "outputs": [],
   "source": [
    "cnn1.compile(loss='sparse_categorical_crossentropy',\n",
    "              optimizer=Adam(lr=0.001),\n",
    "              metrics=['accuracy'])"
   ]
  },
  {
   "cell_type": "code",
   "execution_count": 18,
   "metadata": {
    "collapsed": false
   },
   "outputs": [
    {
     "name": "stdout",
     "output_type": "stream",
     "text": [
      "Train on 48000 samples, validate on 12000 samples\n",
      "Epoch 1/10\n",
      "48000/48000 [==============================] - 12s 252us/step - loss: 0.6273 - acc: 0.7860 - val_loss: 0.4054 - val_acc: 0.8615\n",
      "Epoch 2/10\n",
      "48000/48000 [==============================] - 12s 244us/step - loss: 0.3976 - acc: 0.8608 - val_loss: 0.3551 - val_acc: 0.8749\n",
      "Epoch 3/10\n",
      "48000/48000 [==============================] - 12s 254us/step - loss: 0.3522 - acc: 0.8761 - val_loss: 0.3270 - val_acc: 0.8857\n",
      "Epoch 4/10\n",
      "48000/48000 [==============================] - 12s 240us/step - loss: 0.3238 - acc: 0.8862 - val_loss: 0.3106 - val_acc: 0.8903\n",
      "Epoch 5/10\n",
      "48000/48000 [==============================] - 12s 241us/step - loss: 0.3056 - acc: 0.8901 - val_loss: 0.2842 - val_acc: 0.9019\n",
      "Epoch 6/10\n",
      "48000/48000 [==============================] - 12s 242us/step - loss: 0.2848 - acc: 0.8982 - val_loss: 0.2734 - val_acc: 0.9071\n",
      "Epoch 7/10\n",
      "48000/48000 [==============================] - 20s 407us/step - loss: 0.2735 - acc: 0.9014 - val_loss: 0.2618 - val_acc: 0.9089\n",
      "Epoch 8/10\n",
      "48000/48000 [==============================] - 22s 460us/step - loss: 0.2617 - acc: 0.9063 - val_loss: 0.2570 - val_acc: 0.9108\n",
      "Epoch 9/10\n",
      "48000/48000 [==============================] - 22s 452us/step - loss: 0.2492 - acc: 0.9108 - val_loss: 0.2575 - val_acc: 0.9108\n",
      "Epoch 10/10\n",
      "48000/48000 [==============================] - 22s 461us/step - loss: 0.2402 - acc: 0.9132 - val_loss: 0.2529 - val_acc: 0.9101\n"
     ]
    },
    {
     "data": {
      "text/plain": [
       "<keras.callbacks.History at 0x7f5e6c0f36a0>"
      ]
     },
     "execution_count": 18,
     "metadata": {},
     "output_type": "execute_result"
    }
   ],
   "source": [
    "cnn1.fit(X_train, y_train,\n",
    "          batch_size=batch_size,\n",
    "          epochs=10,\n",
    "          verbose=1,\n",
    "          validation_data=(X_val, y_val))"
   ]
  },
  {
   "cell_type": "code",
   "execution_count": 19,
   "metadata": {
    "collapsed": true
   },
   "outputs": [],
   "source": [
    "cnn1.optimizer.lr = 0.0001"
   ]
  },
  {
   "cell_type": "code",
   "execution_count": 20,
   "metadata": {
    "collapsed": false
   },
   "outputs": [
    {
     "name": "stdout",
     "output_type": "stream",
     "text": [
      "Train on 48000 samples, validate on 12000 samples\n",
      "Epoch 1/10\n",
      "48000/48000 [==============================] - 22s 459us/step - loss: 0.2304 - acc: 0.9157 - val_loss: 0.2474 - val_acc: 0.9149\n",
      "Epoch 2/10\n",
      "48000/48000 [==============================] - 22s 459us/step - loss: 0.2265 - acc: 0.9166 - val_loss: 0.2377 - val_acc: 0.9176\n",
      "Epoch 3/10\n",
      "48000/48000 [==============================] - 22s 458us/step - loss: 0.2187 - acc: 0.9203 - val_loss: 0.2340 - val_acc: 0.9183\n",
      "Epoch 4/10\n",
      "48000/48000 [==============================] - 22s 454us/step - loss: 0.2076 - acc: 0.9241 - val_loss: 0.2364 - val_acc: 0.9182\n",
      "Epoch 5/10\n",
      "48000/48000 [==============================] - 22s 463us/step - loss: 0.1991 - acc: 0.9291 - val_loss: 0.2398 - val_acc: 0.9134\n",
      "Epoch 6/10\n",
      "48000/48000 [==============================] - 22s 449us/step - loss: 0.1972 - acc: 0.9278 - val_loss: 0.2266 - val_acc: 0.9202\n",
      "Epoch 7/10\n",
      "48000/48000 [==============================] - 22s 454us/step - loss: 0.1884 - acc: 0.9299 - val_loss: 0.2253 - val_acc: 0.9200\n",
      "Epoch 8/10\n",
      "48000/48000 [==============================] - 22s 456us/step - loss: 0.1847 - acc: 0.9333 - val_loss: 0.2264 - val_acc: 0.9212\n",
      "Epoch 9/10\n",
      "48000/48000 [==============================] - 22s 462us/step - loss: 0.1754 - acc: 0.9368 - val_loss: 0.2202 - val_acc: 0.9249\n",
      "Epoch 10/10\n",
      "48000/48000 [==============================] - 22s 457us/step - loss: 0.1727 - acc: 0.9367 - val_loss: 0.2219 - val_acc: 0.9238\n"
     ]
    },
    {
     "data": {
      "text/plain": [
       "<keras.callbacks.History at 0x7f5e6c0f3860>"
      ]
     },
     "execution_count": 20,
     "metadata": {},
     "output_type": "execute_result"
    }
   ],
   "source": [
    "cnn1.fit(X_train, y_train,\n",
    "          batch_size=batch_size,\n",
    "          epochs=10,\n",
    "          verbose=1,\n",
    "          validation_data=(X_val, y_val))"
   ]
  },
  {
   "cell_type": "code",
   "execution_count": 21,
   "metadata": {
    "collapsed": false
   },
   "outputs": [
    {
     "name": "stdout",
     "output_type": "stream",
     "text": [
      "Test loss: 0.2533967490494251\n",
      "Test accuracy: 0.9107\n"
     ]
    }
   ],
   "source": [
    "score = cnn1.evaluate(X_test, y_test, verbose=0)\n",
    "print('Test loss:', score[0])\n",
    "print('Test accuracy:', score[1])"
   ]
  },
  {
   "cell_type": "code",
   "execution_count": 17,
   "metadata": {
    "collapsed": true
   },
   "outputs": [],
   "source": [
    "# Data Augmentation"
   ]
  },
  {
   "cell_type": "code",
   "execution_count": 18,
   "metadata": {
    "collapsed": false
   },
   "outputs": [],
   "source": [
    "gen = ImageDataGenerator(rotation_range=8, width_shift_range=0.08, shear_range=0.3,\n",
    "                               height_shift_range=0.08, zoom_range=0.08)\n",
    "batches = gen.flow(X_train, y_train, batch_size=batch_size)\n",
    "val_batches = gen.flow(X_val, y_val, batch_size=batch_size)"
   ]
  },
  {
   "cell_type": "code",
   "execution_count": 19,
   "metadata": {
    "collapsed": false
   },
   "outputs": [
    {
     "name": "stdout",
     "output_type": "stream",
     "text": [
      "Epoch 1/50\n",
      "93/93 [==============================] - 28s 299ms/step - loss: 0.8282 - acc: 0.7056 - val_loss: 0.6119 - val_acc: 0.7749\n",
      "Epoch 2/50\n",
      "93/93 [==============================] - 27s 295ms/step - loss: 0.5860 - acc: 0.7831 - val_loss: 0.5464 - val_acc: 0.7927\n",
      "Epoch 3/50\n",
      "93/93 [==============================] - 28s 297ms/step - loss: 0.5380 - acc: 0.8032 - val_loss: 0.4886 - val_acc: 0.8235\n",
      "Epoch 4/50\n",
      "93/93 [==============================] - 27s 288ms/step - loss: 0.4971 - acc: 0.8167 - val_loss: 0.4704 - val_acc: 0.8257\n",
      "Epoch 5/50\n",
      "93/93 [==============================] - 27s 290ms/step - loss: 0.4780 - acc: 0.8225 - val_loss: 0.4545 - val_acc: 0.8349\n",
      "Epoch 6/50\n",
      "93/93 [==============================] - 27s 295ms/step - loss: 0.4630 - acc: 0.8295 - val_loss: 0.4308 - val_acc: 0.8410\n",
      "Epoch 7/50\n",
      "93/93 [==============================] - 27s 294ms/step - loss: 0.4379 - acc: 0.8384 - val_loss: 0.4134 - val_acc: 0.8488\n",
      "Epoch 8/50\n",
      "93/93 [==============================] - 24s 254ms/step - loss: 0.4327 - acc: 0.8368 - val_loss: 0.4042 - val_acc: 0.8554\n",
      "Epoch 9/50\n",
      "93/93 [==============================] - 15s 165ms/step - loss: 0.4177 - acc: 0.8458 - val_loss: 0.3937 - val_acc: 0.8559\n",
      "Epoch 10/50\n",
      "93/93 [==============================] - 15s 164ms/step - loss: 0.4094 - acc: 0.8484 - val_loss: 0.3882 - val_acc: 0.8593\n",
      "Epoch 11/50\n",
      "93/93 [==============================] - 16s 171ms/step - loss: 0.4004 - acc: 0.8510 - val_loss: 0.3725 - val_acc: 0.8623\n",
      "Epoch 12/50\n",
      "93/93 [==============================] - 23s 243ms/step - loss: 0.3947 - acc: 0.8545 - val_loss: 0.3671 - val_acc: 0.8666\n",
      "Epoch 13/50\n",
      "93/93 [==============================] - 28s 297ms/step - loss: 0.3853 - acc: 0.8583 - val_loss: 0.3703 - val_acc: 0.8663\n",
      "Epoch 14/50\n",
      "93/93 [==============================] - 27s 294ms/step - loss: 0.3801 - acc: 0.8603 - val_loss: 0.3596 - val_acc: 0.8665\n",
      "Epoch 15/50\n",
      "93/93 [==============================] - 28s 296ms/step - loss: 0.3852 - acc: 0.8581 - val_loss: 0.3585 - val_acc: 0.8698\n",
      "Epoch 16/50\n",
      "93/93 [==============================] - 27s 292ms/step - loss: 0.3673 - acc: 0.8635 - val_loss: 0.3489 - val_acc: 0.8738\n",
      "Epoch 17/50\n",
      "93/93 [==============================] - 28s 301ms/step - loss: 0.3648 - acc: 0.8648 - val_loss: 0.3512 - val_acc: 0.8707\n",
      "Epoch 18/50\n",
      "93/93 [==============================] - 27s 294ms/step - loss: 0.3669 - acc: 0.8642 - val_loss: 0.3442 - val_acc: 0.8745\n",
      "Epoch 19/50\n",
      "93/93 [==============================] - 27s 293ms/step - loss: 0.3617 - acc: 0.8650 - val_loss: 0.3389 - val_acc: 0.8723\n",
      "Epoch 20/50\n",
      "93/93 [==============================] - 28s 302ms/step - loss: 0.3499 - acc: 0.8711 - val_loss: 0.3357 - val_acc: 0.8740\n",
      "Epoch 21/50\n",
      "93/93 [==============================] - 27s 288ms/step - loss: 0.3533 - acc: 0.8672 - val_loss: 0.3292 - val_acc: 0.8800\n",
      "Epoch 22/50\n",
      "93/93 [==============================] - 28s 296ms/step - loss: 0.3499 - acc: 0.8706 - val_loss: 0.3243 - val_acc: 0.8808\n",
      "Epoch 23/50\n",
      "93/93 [==============================] - 28s 297ms/step - loss: 0.3403 - acc: 0.8750 - val_loss: 0.3311 - val_acc: 0.8773\n",
      "Epoch 24/50\n",
      "93/93 [==============================] - 27s 292ms/step - loss: 0.3368 - acc: 0.8768 - val_loss: 0.3164 - val_acc: 0.8826\n",
      "Epoch 25/50\n",
      "93/93 [==============================] - 27s 292ms/step - loss: 0.3380 - acc: 0.8739 - val_loss: 0.3257 - val_acc: 0.8796\n",
      "Epoch 26/50\n",
      "93/93 [==============================] - 27s 293ms/step - loss: 0.3338 - acc: 0.8779 - val_loss: 0.3157 - val_acc: 0.8877\n",
      "Epoch 27/50\n",
      "93/93 [==============================] - 27s 288ms/step - loss: 0.3301 - acc: 0.8777 - val_loss: 0.3145 - val_acc: 0.8863\n",
      "Epoch 28/50\n",
      "93/93 [==============================] - 27s 293ms/step - loss: 0.3307 - acc: 0.8778 - val_loss: 0.3052 - val_acc: 0.8908\n",
      "Epoch 29/50\n",
      "93/93 [==============================] - 27s 295ms/step - loss: 0.3259 - acc: 0.8801 - val_loss: 0.3143 - val_acc: 0.8829\n",
      "Epoch 30/50\n",
      "93/93 [==============================] - 27s 292ms/step - loss: 0.3242 - acc: 0.8810 - val_loss: 0.3082 - val_acc: 0.8870\n",
      "Epoch 31/50\n",
      "93/93 [==============================] - 27s 288ms/step - loss: 0.3193 - acc: 0.8810 - val_loss: 0.3060 - val_acc: 0.8885\n",
      "Epoch 32/50\n",
      "93/93 [==============================] - 27s 291ms/step - loss: 0.3195 - acc: 0.8813 - val_loss: 0.3030 - val_acc: 0.8896\n",
      "Epoch 33/50\n",
      "93/93 [==============================] - 27s 293ms/step - loss: 0.3130 - acc: 0.8851 - val_loss: 0.3023 - val_acc: 0.8883\n",
      "Epoch 34/50\n",
      "93/93 [==============================] - 27s 289ms/step - loss: 0.3177 - acc: 0.8832 - val_loss: 0.3055 - val_acc: 0.8870\n",
      "Epoch 35/50\n",
      "93/93 [==============================] - 27s 291ms/step - loss: 0.3110 - acc: 0.8848 - val_loss: 0.2997 - val_acc: 0.8924\n",
      "Epoch 36/50\n",
      "93/93 [==============================] - 27s 290ms/step - loss: 0.3090 - acc: 0.8853 - val_loss: 0.3019 - val_acc: 0.8911\n",
      "Epoch 37/50\n",
      "93/93 [==============================] - 28s 300ms/step - loss: 0.3106 - acc: 0.8840 - val_loss: 0.2938 - val_acc: 0.8927\n",
      "Epoch 38/50\n",
      "93/93 [==============================] - 28s 296ms/step - loss: 0.3050 - acc: 0.8868 - val_loss: 0.2975 - val_acc: 0.8931\n",
      "Epoch 39/50\n",
      "93/93 [==============================] - 39s 423ms/step - loss: 0.3014 - acc: 0.8884 - val_loss: 0.2903 - val_acc: 0.8957\n",
      "Epoch 40/50\n",
      "93/93 [==============================] - 39s 420ms/step - loss: 0.3020 - acc: 0.8868 - val_loss: 0.2863 - val_acc: 0.8972\n",
      "Epoch 41/50\n",
      "93/93 [==============================] - 40s 430ms/step - loss: 0.2982 - acc: 0.8908 - val_loss: 0.2977 - val_acc: 0.8898\n",
      "Epoch 42/50\n",
      "93/93 [==============================] - 40s 429ms/step - loss: 0.3014 - acc: 0.8874 - val_loss: 0.2911 - val_acc: 0.8964\n",
      "Epoch 43/50\n",
      "93/93 [==============================] - 40s 432ms/step - loss: 0.2929 - acc: 0.8930 - val_loss: 0.2845 - val_acc: 0.8993\n",
      "Epoch 44/50\n",
      "93/93 [==============================] - 39s 423ms/step - loss: 0.2974 - acc: 0.8903 - val_loss: 0.2759 - val_acc: 0.9018\n",
      "Epoch 45/50\n",
      "93/93 [==============================] - 40s 427ms/step - loss: 0.2909 - acc: 0.8926 - val_loss: 0.2880 - val_acc: 0.8978\n",
      "Epoch 46/50\n",
      "93/93 [==============================] - 40s 425ms/step - loss: 0.2934 - acc: 0.8906 - val_loss: 0.2844 - val_acc: 0.8961\n",
      "Epoch 47/50\n",
      "93/93 [==============================] - 40s 432ms/step - loss: 0.2898 - acc: 0.8927 - val_loss: 0.2822 - val_acc: 0.8990\n",
      "Epoch 48/50\n",
      "93/93 [==============================] - 40s 425ms/step - loss: 0.2896 - acc: 0.8914 - val_loss: 0.2830 - val_acc: 0.8961\n",
      "Epoch 49/50\n",
      "93/93 [==============================] - 42s 449ms/step - loss: 0.2879 - acc: 0.8923 - val_loss: 0.2834 - val_acc: 0.8962\n",
      "Epoch 50/50\n",
      "93/93 [==============================] - 41s 437ms/step - loss: 0.2879 - acc: 0.8944 - val_loss: 0.2785 - val_acc: 0.8988\n"
     ]
    },
    {
     "data": {
      "text/plain": [
       "<keras.callbacks.History at 0x7fef92d667b8>"
      ]
     },
     "execution_count": 19,
     "metadata": {},
     "output_type": "execute_result"
    }
   ],
   "source": [
    "cnn1.fit_generator(batches, steps_per_epoch=48000//batch_size, epochs=50,\n",
    "                    validation_data=val_batches, validation_steps=12000//batch_size, use_multiprocessing=True)"
   ]
  },
  {
   "cell_type": "code",
   "execution_count": 20,
   "metadata": {
    "collapsed": false
   },
   "outputs": [
    {
     "name": "stdout",
     "output_type": "stream",
     "text": [
      "Test loss: 0.2589766583442688\n",
      "Test accuracy: 0.9108\n"
     ]
    }
   ],
   "source": [
    "score = cnn1.evaluate(X_test, y_test, verbose=0)\n",
    "print('Test loss:', score[0])\n",
    "print('Test accuracy:', score[1])\n"
   ]
  },
  {
   "cell_type": "code",
   "execution_count": 21,
   "metadata": {
    "collapsed": false
   },
   "outputs": [
    {
     "name": "stdout",
     "output_type": "stream",
     "text": [
      "_________________________________________________________________\n",
      "Layer (type)                 Output Shape              Param #   \n",
      "=================================================================\n",
      "conv2d_1 (Conv2D)            (None, 26, 26, 32)        320       \n",
      "_________________________________________________________________\n",
      "max_pooling2d_1 (MaxPooling2 (None, 13, 13, 32)        0         \n",
      "_________________________________________________________________\n",
      "dropout_1 (Dropout)          (None, 13, 13, 32)        0         \n",
      "_________________________________________________________________\n",
      "flatten_1 (Flatten)          (None, 5408)              0         \n",
      "_________________________________________________________________\n",
      "dense_1 (Dense)              (None, 128)               692352    \n",
      "_________________________________________________________________\n",
      "dense_2 (Dense)              (None, 10)                1290      \n",
      "=================================================================\n",
      "Total params: 693,962\n",
      "Trainable params: 693,962\n",
      "Non-trainable params: 0\n",
      "_________________________________________________________________\n"
     ]
    }
   ],
   "source": [
    "cnn1.summary()"
   ]
  },
  {
   "cell_type": "code",
   "execution_count": null,
   "metadata": {
    "collapsed": true
   },
   "outputs": [],
   "source": []
  }
 ],
 "metadata": {
  "kernelspec": {
   "display_name": "Python 3",
   "language": "python",
   "name": "python3"
  },
  "language_info": {
   "codemirror_mode": {
    "name": "ipython",
    "version": 3
   },
   "file_extension": ".py",
   "mimetype": "text/x-python",
   "name": "python",
   "nbconvert_exporter": "python",
   "pygments_lexer": "ipython3",
   "version": "3.5.1"
  }
 },
 "nbformat": 4,
 "nbformat_minor": 2
}
